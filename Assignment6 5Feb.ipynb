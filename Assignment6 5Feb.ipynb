{
 "cells": [
  {
   "cell_type": "code",
   "execution_count": null,
   "id": "284fa0d7-4af9-4ef9-be82-ebb0cda470a0",
   "metadata": {},
   "outputs": [],
   "source": [
    "#ques1: Explain class and object with respect to Object oriented programming. Give a suitable example?\n",
    "'''ans: A class is a blueprint or template that defines the properties and methods of objects of a particular type.\n",
    "Classes can be thought of as the blueprint for creating objects, which hold the data or state of the objects.\n",
    "For example, a class \"Car\" can have properties such as make, model, color, and horsepower and methods such as start, stop,\n",
    "and drive.\n",
    "An object is an instance of a class and represents a specific instance of the class.\n",
    "Objects are created from classes and are sometimes referred to as instances.\n",
    "For example, you can create several objects from the class \"Car,\" such as a red Honda Civic or a blue Toyota Corolla.\n",
    "Each of these objects will have its own set of properties and methods, but they are still members of the same class \"Car.'''"
   ]
  },
  {
   "cell_type": "code",
   "execution_count": null,
   "id": "6fe62bd9-dabf-4add-8f61-2043b57f31a6",
   "metadata": {},
   "outputs": [],
   "source": [
    "#ques2: Name the four pillars of OOPs?\n",
    "'''The four pillars of object-oriented programming (OOP) are:\n",
    "\n",
    "Abstraction: Abstraction refers to the ability of an object to hide its internal complexity and only reveal the essential features required to interact with it. This helps in reducing the complexity of the code and making it more maintainable.\n",
    "\n",
    "Encapsulation: Encapsulation refers to the practice of wrapping data and methods within an object to protect them from outside access or modification. It creates a boundary around the data, preventing unauthorized access and making it safer.\n",
    "\n",
    "Inheritance: Inheritance is a mechanism by which one class can inherit properties and methods from a parent class. This allows for creating new classes that are based on existing ones, promoting code reuse and reducing redundancy.\n",
    "\n",
    "Polymorphism: Polymorphism refers to the ability of an object to take on many forms. In OOP, polymorphism allows objects of different classes to be treated as objects of the same class. This allows for greater flexibility in the code and a more generic approach to problem-solving.'''"
   ]
  },
  {
   "cell_type": "code",
   "execution_count": null,
   "id": "b98927ee-2abc-42e8-8fba-227b08cf9954",
   "metadata": {},
   "outputs": [],
   "source": [
    "#ques3: Explain why the __init__ function is used. Give a suitable example?\n",
    "#ans:  __init__ function is a special method in Python that is automatically executed when an object of a class is created. It is also known as the constructor method and is used to initialize the object's state when it is created.\n",
    "#For example-\n",
    "class Person:\n",
    "    def __init__(self, name, age):\n",
    "        self.name = name\n",
    "        self.age = age\n",
    "#Here  __init__ method takes two arguments: name and age. Whenever a new object of the Person class is created, the __init__ method is automatically called and sets the name and age properties of the object to the values passed as arguments."
   ]
  },
  {
   "cell_type": "code",
   "execution_count": null,
   "id": "f577eec6-af90-41cf-8e34-6f19983f8496",
   "metadata": {},
   "outputs": [],
   "source": [
    "#ques4: Why self is used in OOPs?\n",
    "#ans:  self keyword is used to refer to the current instance of a class. It is used as a placeholder for the object itself, allowing you to access its properties and methods from within the class.It is not fixed, we can change it."
   ]
  },
  {
   "cell_type": "code",
   "execution_count": null,
   "id": "928748e0-6e65-4d40-a0de-b748f26b17f9",
   "metadata": {},
   "outputs": [],
   "source": [
    "#ques5: What is  inheritance. Give an example of each type of inheritance?\n",
    "'''ans: Inheritance is a mechanism in object-oriented programming where an object or class is based on another object (prototypal inheritance) or class (class-based inheritance), retaining similar implementation. The newly derived class is called a subclass, and the class it inherits from is called a superclass.\n",
    "There are several types of inheritance:\n",
    "\n",
    "Single inheritance: a subclass inherits from a single superclass. For example, a \"Bird\" class that inherits characteristics from an \"Animal\" class.\n",
    "\n",
    "Multiple inheritance: a subclass inherits characteristics from multiple superclasses. For example, a \"FlyingFish\" class that inherits from both \"Fish\" and \"Bird\" classes.\n",
    "\n",
    "Hierarchical inheritance: multiple subclasses inherit from a single superclass. For example, different types of \"Birds\" such as \"Owl\" and \"Eagle\" classes inheriting from a single \"Bird\" class.\n",
    "\n",
    "Multi-level inheritance: a subclass inherits from a superclass, and then the subclass acts as a superclass for another subclass. For example, a \"Pelican\" class inherits from a \"Bird\" class, and then a \"AustralianPelican\" class inherits from the \"Pelican\" class.\n",
    "\n",
    "Hybrid inheritance: a combination of two or more types of inheritance. For example, a class that combines multiple inheritance and hierarchical inheritance.'''"
   ]
  }
 ],
 "metadata": {
  "kernelspec": {
   "display_name": "Python 3 (ipykernel)",
   "language": "python",
   "name": "python3"
  },
  "language_info": {
   "codemirror_mode": {
    "name": "ipython",
    "version": 3
   },
   "file_extension": ".py",
   "mimetype": "text/x-python",
   "name": "python",
   "nbconvert_exporter": "python",
   "pygments_lexer": "ipython3",
   "version": "3.10.8"
  }
 },
 "nbformat": 4,
 "nbformat_minor": 5
}
