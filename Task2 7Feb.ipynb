{
 "cells": [
  {
   "cell_type": "code",
   "execution_count": 36,
   "id": "875ce630-af1d-4356-b86d-2e94d4c3f5bc",
   "metadata": {},
   "outputs": [
    {
     "name": "stdout",
     "output_type": "stream",
     "text": [
      "Valid Password\n"
     ]
    }
   ],
   "source": [
    "'''ques1: Q1. You are writing code for a company. The requirement of the company is that you create a python\n",
    "function that will check whether the password entered by the user is correct or not. The function should\n",
    "take the password as input and return the string “Valid Password” if the entered password follows the\n",
    "below-given password guidelines else it should return “Invalid Password”.\n",
    "Note: \n",
    "1. The Password should contain at least two uppercase letters and at least two lowercase letters.\n",
    "2. The Password should contain at least a number and three special characters.\n",
    "3. The length of the password should be 10 characters long.'''\n",
    "\n",
    "import re\n",
    "\n",
    "def password_checker(password):\n",
    "    # Check length of password\n",
    "    if len(password) != 10:\n",
    "        return \"Invalid Password\"\n",
    "    \n",
    "    # Check for at least two uppercase letters and two lowercase letters\n",
    "    upper_letter_count = len(re.findall(r'[A-Z]', password))\n",
    "    lower_letter_count = len(re.findall(r'[a-z]', password))\n",
    "    if upper_letter_count < 2 or lower_letter_count < 2:\n",
    "        return \"Invalid Password\"\n",
    "    \n",
    "    # Check for at least one number and three special characters\n",
    "    number_count = len(re.findall(r'\\d', password))\n",
    "    special_char_count = len(re.findall(r'[!@#$%^&*(),.?\":{}|<>]', password))\n",
    "    if number_count < 1 or special_char_count < 3:\n",
    "        return \"Invalid Password\"\n",
    "    \n",
    "    return \"Valid Password\"\n",
    "\n",
    "password='anilDE1@#$'\n",
    "print(password_checker(password))\n",
    "\n"
   ]
  },
  {
   "cell_type": "code",
   "execution_count": 45,
   "id": "03ca7ba1-223d-49f4-b3b0-3cfd6fcf048a",
   "metadata": {},
   "outputs": [
    {
     "name": "stdout",
     "output_type": "stream",
     "text": [
      "['hello world']\n"
     ]
    }
   ],
   "source": [
    "#ques2: \n",
    "\n",
    "#Check if the string starts with a particular letter \n",
    "string = \"hello world\"\n",
    "check_letter = \"h\"\n",
    "result = filter(lambda x: x.startswith(check_letter), [string])\n",
    "print(list(result))"
   ]
  },
  {
   "cell_type": "code",
   "execution_count": 46,
   "id": "b9609f8b-3ad1-44d3-b80d-7d23f7061a1e",
   "metadata": {},
   "outputs": [
    {
     "name": "stdout",
     "output_type": "stream",
     "text": [
      "['12345']\n"
     ]
    }
   ],
   "source": [
    "#Check if the string is numeric\n",
    "string = \"12345\"\n",
    "result = filter(lambda x: x.isdigit(), [string])\n",
    "print(list(result))"
   ]
  },
  {
   "cell_type": "code",
   "execution_count": 50,
   "id": "055441f1-20b7-4ef2-bf67-8aac818cbf61",
   "metadata": {},
   "outputs": [
    {
     "name": "stdout",
     "output_type": "stream",
     "text": [
      "[('orange', 80), ('mango', 99), ('grapes', 1000)]\n"
     ]
    }
   ],
   "source": [
    "#Sort a list of tuples having fruit names and their quantity.\n",
    "l = [(\"mango\", 99), (\"orange\", 80), (\"grapes\", 1000)]\n",
    "sorted_list = sorted(l, key=lambda x: x[1])\n",
    "print(sorted_list)"
   ]
  },
  {
   "cell_type": "code",
   "execution_count": 2,
   "id": "afc2b061-6c07-4771-87f0-747b94364af3",
   "metadata": {},
   "outputs": [
    {
     "name": "stdout",
     "output_type": "stream",
     "text": [
      "[1, 4, 9, 16, 25, 36, 49, 64, 81, 100]\n"
     ]
    }
   ],
   "source": [
    "#Find the squares of numbers from 1 to 10\n",
    "a=[1,2,3,4,5,6,7,8,9,10]\n",
    "b=lambda x: x**2\n",
    "print(list(map(b,a)))"
   ]
  },
  {
   "cell_type": "code",
   "execution_count": 9,
   "id": "613d0c27-c073-45fa-8c92-b3e8d6b8be3c",
   "metadata": {},
   "outputs": [
    {
     "name": "stdout",
     "output_type": "stream",
     "text": [
      "[0, 1, 8, 27, 64, 125, 216, 343, 512, 729, 1000]\n"
     ]
    }
   ],
   "source": [
    "#Find the cube root of numbers from 1 to 10\n",
    "l=[1,2,3,4,5,6,7,8,9,10]\n",
    "a=[a**3 for a in range(0,11)]\n",
    "print(a)"
   ]
  },
  {
   "cell_type": "code",
   "execution_count": 22,
   "id": "62e5991b-ca09-4679-9060-6ca35c44c2ff",
   "metadata": {},
   "outputs": [
    {
     "name": "stdin",
     "output_type": "stream",
     "text": [
      "enter number to check if it is even : 91\n"
     ]
    },
    {
     "name": "stdout",
     "output_type": "stream",
     "text": [
      "('no', 91, 'is not a even number')\n"
     ]
    }
   ],
   "source": [
    "#Check if a given number is even\n",
    "l=int(input('enter number to check if it is even :'))\n",
    "def even_check(n):\n",
    "    if n % 2 == 0:\n",
    "        return 'yes', n ,  'is a even number'\n",
    "    else : return 'no', n , 'is not a even number'\n",
    "print(even_check(l))"
   ]
  },
  {
   "cell_type": "code",
   "execution_count": 23,
   "id": "4f6c5b38-e7f4-46b7-b3d3-aa9d9c9029b4",
   "metadata": {},
   "outputs": [
    {
     "name": "stdout",
     "output_type": "stream",
     "text": [
      "[1, 3, 5, 7, 9]\n"
     ]
    }
   ],
   "source": [
    "#Filter odd numbers from the given list.\n",
    "l=[1,2,3,4,5,6,7,8,9,10]\n",
    "odd_num= lambda x: x%2 != 0\n",
    "print(list(filter(odd_num,l)))"
   ]
  },
  {
   "cell_type": "code",
   "execution_count": 47,
   "id": "52255367-4694-43e9-bc2c-0dcb5dfbba00",
   "metadata": {},
   "outputs": [
    {
     "name": "stdout",
     "output_type": "stream",
     "text": [
      "[1, 2, 3, 4, 5, 6, 0]\n",
      "[-1, -2, -3, -4, -5]\n"
     ]
    }
   ],
   "source": [
    "#Sort a list of integers into positive and negative integers lists.\n",
    "l=[1,2,3,4,5,6,-1,-2,-3,-4,-5,0]\n",
    "positive=[x for x in l if x>=0]\n",
    "negative=[x for x in l if x<0]\n",
    "print(positive)\n",
    "print(negative)"
   ]
  }
 ],
 "metadata": {
  "kernelspec": {
   "display_name": "Python 3 (ipykernel)",
   "language": "python",
   "name": "python3"
  },
  "language_info": {
   "codemirror_mode": {
    "name": "ipython",
    "version": 3
   },
   "file_extension": ".py",
   "mimetype": "text/x-python",
   "name": "python",
   "nbconvert_exporter": "python",
   "pygments_lexer": "ipython3",
   "version": "3.10.8"
  }
 },
 "nbformat": 4,
 "nbformat_minor": 5
}
