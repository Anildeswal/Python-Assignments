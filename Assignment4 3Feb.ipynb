{
 "cells": [
  {
   "cell_type": "code",
   "execution_count": 11,
   "id": "75ac7fbf-7a63-4122-8a7d-f25d2a9b30f8",
   "metadata": {},
   "outputs": [
    {
     "name": "stdout",
     "output_type": "stream",
     "text": [
      "[1, 3, 5, 7, 9, 11, 13, 15, 17, 19, 21, 23, 25]\n"
     ]
    }
   ],
   "source": [
    "#ques1: which keyword is used to create a function? Create a function to return a list of odd numbers\n",
    "# in the range of 1 to 25.\n",
    "\n",
    "#def is used to create a function\n",
    "def list_odd(a,b):\n",
    "    list_odd=[]\n",
    "    for i in range(a,(b+1)):\n",
    "        if i % 2 != 0:\n",
    "            list_odd.append(i)\n",
    "    return list_odd\n",
    "\n",
    "print(list_odd(1,25))"
   ]
  },
  {
   "cell_type": "code",
   "execution_count": 4,
   "id": "5a678e7c-8ea5-4b73-bf57-489720ae65a5",
   "metadata": {},
   "outputs": [
    {
     "name": "stdout",
     "output_type": "stream",
     "text": [
      "1\n",
      "2\n",
      "3\n",
      "4\n",
      "5\n"
     ]
    }
   ],
   "source": [
    "#ques2: Why *args and **kwargs are used some in functions? Create a function for each *args and **kwaargs to demonstrate their use?\n",
    "\n",
    "'''*args and **kwargs are used in functions to allow them to accept a varying number of arguments.\n",
    "\n",
    "*args is used to send a non-keyworded variable length argument list to the function.\n",
    "\n",
    "**kwargs allows you to pass keyworded variable length of arguments to a function.'''\n",
    "def test_function(*args):\n",
    "    for arg in args:\n",
    "        print(arg)\n",
    "\n",
    "test_function(1, 2, 3, 4, 5)"
   ]
  },
  {
   "cell_type": "code",
   "execution_count": 5,
   "id": "6c5384c6-13d9-442b-97cc-aced29c753a6",
   "metadata": {},
   "outputs": [
    {
     "name": "stdout",
     "output_type": "stream",
     "text": [
      "first_name = anil\n",
      "last_name = Deswal\n"
     ]
    }
   ],
   "source": [
    "def test_function(**kwargs):\n",
    "    for key, value in kwargs.items():\n",
    "        print(\"{0} = {1}\".format(key, value))\n",
    "\n",
    "test_function(first_name=\"anil\", last_name=\"Deswal\")"
   ]
  },
  {
   "cell_type": "code",
   "execution_count": 9,
   "id": "9ea66a8d-dfcf-426a-a04e-842489e4082d",
   "metadata": {},
   "outputs": [
    {
     "name": "stdout",
     "output_type": "stream",
     "text": [
      "2\n",
      "4\n",
      "6\n",
      "8\n",
      "10\n"
     ]
    }
   ],
   "source": [
    "#ques3: What is an iterator in python? name the method to initalise the iterator object and the method used for iteration\n",
    "#Use these methods to prit the first five elements of the given list-[2, 4, 6, 8, 10, 12, 14, 16, 18, 20].\n",
    "\n",
    "'''An iterator in Python is an object that implements the iterator protocol, which consists of the methods __iter__() and __next__().\n",
    "The __iter__() method returns the iterator object itself.\n",
    "The __next__() method returns the next item from the iterator. If there are no more items, it should raise StopIteration.'''\n",
    "\n",
    "my_list = [2, 4, 6, 8, 10, 12, 14, 16, 18, 20]\n",
    "my_iter = iter(my_list)\n",
    "\n",
    "for i in range(5):\n",
    "    print(next(my_iter))"
   ]
  },
  {
   "cell_type": "code",
   "execution_count": 13,
   "id": "7243025c-9066-435a-9515-e486301f639b",
   "metadata": {},
   "outputs": [
    {
     "name": "stdout",
     "output_type": "stream",
     "text": [
      "0\n",
      "2\n",
      "4\n",
      "6\n",
      "8\n"
     ]
    }
   ],
   "source": [
    "#ques4: What is a generator function in python? Why yield keyword is used? Give an example of generator function.\n",
    "\n",
    "'''A generator function in Python is a special type of function that allows you to generate a series of values, \n",
    "one at a time, instead of creating a whole list or sequence of values beforehand. A generator function uses the yield \n",
    "keyword instead of return to return a value.\n",
    "The yield keyword is used to pause the function and return the current value to the caller,\n",
    "then save the current state of the function, so that it can resume where it left off the next \n",
    "time the function is called. This allows you to produce a series of values one at a time, rather than all at once.'''\n",
    "def even_numbers(n):\n",
    "    counter = 0\n",
    "    while counter < n:\n",
    "        yield 2 * counter\n",
    "        counter += 1\n",
    "\n",
    "for num in even_numbers(5):\n",
    "    print(num)"
   ]
  },
  {
   "cell_type": "code",
   "execution_count": 23,
   "id": "1ec809b6-c716-4a9a-882c-222c33df63f0",
   "metadata": {},
   "outputs": [
    {
     "name": "stdout",
     "output_type": "stream",
     "text": [
      "2\n",
      "3\n",
      "5\n",
      "7\n",
      "11\n",
      "13\n",
      "17\n",
      "19\n",
      "23\n",
      "29\n",
      "31\n",
      "37\n",
      "41\n",
      "43\n",
      "47\n",
      "53\n",
      "59\n",
      "61\n",
      "67\n",
      "71\n"
     ]
    }
   ],
   "source": [
    "#ques5: Create a generator function for prime numbers less than 1000. Use the next() method to print the first 20 prime numbers.\n",
    "\n",
    "def prime_numbers():\n",
    "    yield 2\n",
    "    primes = [2]\n",
    "    num = 3\n",
    "    while num < 1000:\n",
    "        is_prime = True\n",
    "        for prime in primes:\n",
    "            if prime > int(num ** 0.5) + 1:\n",
    "                break\n",
    "            if num % prime == 0:\n",
    "                is_prime = False\n",
    "                break\n",
    "        if is_prime:\n",
    "            primes.append(num)\n",
    "            yield num\n",
    "        num += 2\n",
    "\n",
    "prime_gen = prime_numbers()\n",
    "\n",
    "for i in range(20):\n",
    "    print(next(prime_gen))"
   ]
  },
  {
   "cell_type": "code",
   "execution_count": 32,
   "id": "c2fc7a9f-f4c4-4087-8d27-873fe6c3992e",
   "metadata": {},
   "outputs": [
    {
     "name": "stdout",
     "output_type": "stream",
     "text": [
      "0\n",
      "1\n",
      "1\n",
      "2\n",
      "3\n",
      "5\n",
      "8\n",
      "13\n",
      "21\n",
      "34\n"
     ]
    }
   ],
   "source": [
    "#ques6: Write a python program to print the first 10 Fibonacci numbers using a while loop.\n",
    "\n",
    "def fibo(n):\n",
    "    a, b = 0, 1\n",
    "    count = 0\n",
    "    while count < n:\n",
    "        print(a)\n",
    "        c = a + b\n",
    "        a = b\n",
    "        b = c\n",
    "        count += 1\n",
    "\n",
    "fibo(10)\n",
    "    \n",
    "    "
   ]
  },
  {
   "cell_type": "code",
   "execution_count": 37,
   "id": "681749fd-9ef6-443b-a3e6-bdee28a20877",
   "metadata": {},
   "outputs": [
    {
     "name": "stdout",
     "output_type": "stream",
     "text": [
      "['p', 'w', 's', 'k', 'i', 'l', 'l', 's']\n"
     ]
    }
   ],
   "source": [
    "#ques7: Write a List Comprehension to iterate through the given string: ‘pwskills’.Expected output: ['p', 'w', 's', 'k', 'i', 'l', 'l', 's']\n",
    "\n",
    "string = 'pwskills'\n",
    "characters = [i for i in string]\n",
    "print(characters)"
   ]
  },
  {
   "cell_type": "code",
   "execution_count": 43,
   "id": "072fb024-ff4f-4f8e-b4d9-43c9f6bdf300",
   "metadata": {},
   "outputs": [
    {
     "name": "stdin",
     "output_type": "stream",
     "text": [
      "Enter any number:  121\n"
     ]
    },
    {
     "name": "stdout",
     "output_type": "stream",
     "text": [
      "121 is a palindrome.\n"
     ]
    }
   ],
   "source": [
    "#ques8: Write a python program to check whether a given number is Palindrome or not using a while loop.\n",
    "\n",
    "def is_palindrome(num):\n",
    "    original = num\n",
    "    reverse = 0\n",
    "    while num > 0:\n",
    "        last_digit = num % 10\n",
    "        reverse = reverse * 10 + last_digit\n",
    "        num //= 10\n",
    "    return original == reverse\n",
    "\n",
    "number = int(input(\"Enter any number: \"))\n",
    "if is_palindrome(number):\n",
    "    print(f\"{number} is a palindrome.\")\n",
    "else:\n",
    "    print(f\"{number} is not a palindrome.\")"
   ]
  },
  {
   "cell_type": "code",
   "execution_count": 44,
   "id": "9b4e1c9f-3161-4382-bb0e-94285a3b24c5",
   "metadata": {},
   "outputs": [
    {
     "name": "stdout",
     "output_type": "stream",
     "text": [
      "[1, 3, 5, 7, 9, 11, 13, 15, 17, 19, 21, 23, 25, 27, 29, 31, 33, 35, 37, 39, 41, 43, 45, 47, 49, 51, 53, 55, 57, 59, 61, 63, 65, 67, 69, 71, 73, 75, 77, 79, 81, 83, 85, 87, 89, 91, 93, 95, 97, 99]\n"
     ]
    }
   ],
   "source": [
    "#ques9: Write a code to print odd numbers from 1 to 100 using list comprehension.\n",
    "\n",
    "odd=[i for i in range(1,100) if i%2!=0]\n",
    "print(odd)"
   ]
  }
 ],
 "metadata": {
  "kernelspec": {
   "display_name": "Python 3 (ipykernel)",
   "language": "python",
   "name": "python3"
  },
  "language_info": {
   "codemirror_mode": {
    "name": "ipython",
    "version": 3
   },
   "file_extension": ".py",
   "mimetype": "text/x-python",
   "name": "python",
   "nbconvert_exporter": "python",
   "pygments_lexer": "ipython3",
   "version": "3.10.8"
  }
 },
 "nbformat": 4,
 "nbformat_minor": 5
}
