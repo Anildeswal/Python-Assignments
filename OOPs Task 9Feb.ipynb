{
 "cells": [
  {
   "cell_type": "code",
   "execution_count": 5,
   "id": "c91cc88f-fcbc-4b80-abe4-86f40f9f4ef8",
   "metadata": {},
   "outputs": [
    {
     "name": "stdout",
     "output_type": "stream",
     "text": [
      "('MAHINDRA SCORPIO', 180, 18)\n"
     ]
    }
   ],
   "source": [
    "#ques1: Create a vehicle class with an init method having instance variables as name_of_vehicle, max_speed and average_of_vehicle.\n",
    "\n",
    "class vehicle:\n",
    "    def __init__ (self,name_of_vehicle,max_speed,average_of_vehicle):\n",
    "        self.name_of_vehicle = name_of_vehicle\n",
    "        self.max_speed = max_speed\n",
    "        self.average_of_vehicle = average_of_vehicle\n",
    "        \n",
    "    def vehicle_details(self):\n",
    "        return self.name_of_vehicle,self.max_speed,self.average_of_vehicle\n",
    "\n",
    "Breeza=vehicle('MARUTI BREEZA',180,18.5)\n",
    "Scorpio=vehicle('MAHINDRA SCORPIO',180,18)\n",
    "print(Scorpio.vehicle_details())"
   ]
  },
  {
   "cell_type": "code",
   "execution_count": 18,
   "id": "abb8560b-79c6-43ac-9b44-e11f73a4a8b9",
   "metadata": {},
   "outputs": [
    {
     "name": "stdout",
     "output_type": "stream",
     "text": [
      "5\n"
     ]
    }
   ],
   "source": [
    "#ques2: Create a child class car from the vehicle class created in Que 1, which will inherit the vehicle class. Create a method named seating_capacity which takes\n",
    "#capacity as an argument and returns the name of the vehicle and its seating capacity.\n",
    "\n",
    "class car(vehicle):\n",
    "        def __init__ (self,capacity):\n",
    "            self.capacity = capacity\n",
    "            \n",
    "        def seating_capacity(self):\n",
    "            return self.capacity,self.vehicle_details\n",
    "\n",
    "Breeza=car(5)\n",
    "print(Breeza.capacity)"
   ]
  },
  {
   "cell_type": "code",
   "execution_count": 8,
   "id": "4abba8f1-4655-4419-8b3d-0be41bf71f95",
   "metadata": {},
   "outputs": [
    {
     "name": "stdout",
     "output_type": "stream",
     "text": [
      "Method of Class A\n",
      "Method of Class B\n"
     ]
    }
   ],
   "source": [
    "#ques3: What is multiple inheritance? Write a python code to demonstrate multiple inheritance.\n",
    "'''Multiple inheritance is a feature in object-oriented programming languages where an object or class can inherit properties and methods from multiple parent\n",
    "classes. This allows the child class to inherit the attributes and behaviors of multiple parent classes, making it a combination of the parent classes.'''\n",
    "\n",
    "class A:\n",
    "    def methodA(self):\n",
    "        print(\"Method of Class A\")\n",
    "\n",
    "class B:\n",
    "    def methodB(self):\n",
    "        print(\"Method of Class B\")\n",
    "\n",
    "class C(A, B):\n",
    "    pass\n",
    "\n",
    "c = C()\n",
    "c.methodA()\n",
    "c.methodB()  #Here, class C inherits from both class A and class B, so it can access the methods of both classes A and B."
   ]
  },
  {
   "cell_type": "code",
   "execution_count": 15,
   "id": "e8ed06fe-54d7-4fc5-a04e-bde34e7614cf",
   "metadata": {},
   "outputs": [
    {
     "name": "stdout",
     "output_type": "stream",
     "text": [
      "Name:  John\n",
      "Age:  30\n",
      "Name:  Jane\n",
      "Age:  32\n"
     ]
    }
   ],
   "source": [
    "#ques4: What are getter and setter in python? Create a class and create a getter and a setter method in this class.\n",
    "'''Getters and setters are methods used to get and set the values of an object's attributes. They are often used to provide additional control over how an \n",
    "attribute's value is accessed or modified, such as by applying constraints or by computing a value on the fly.'''\n",
    "\n",
    "class Person:\n",
    "    def __init__(self, name, age):\n",
    "        self._name = name\n",
    "        self._age = age\n",
    "    \n",
    "    # getter method for name\n",
    "    @property\n",
    "    def name(self):\n",
    "        return self._name\n",
    "\n",
    "    # setter method for name\n",
    "    @name.setter\n",
    "    def name(self, name):\n",
    "        self._name = name\n",
    "\n",
    "    # getter method for age\n",
    "    @property\n",
    "    def age(self):\n",
    "        return self._age\n",
    "    \n",
    "    # setter method for age\n",
    "    @age.setter\n",
    "    def age(self, age):\n",
    "        if age >= 0:\n",
    "            self._age = age\n",
    "        else:\n",
    "            raise ValueError(\"Age can't be negative\")\n",
    "\n",
    "person = Person(\"John\", 30)\n",
    "print(\"Name: \", person.name) # Name: John\n",
    "print(\"Age: \", person.age) # Age: 30\n",
    "\n",
    "person.name = \"Jane\"\n",
    "person.age = 32\n",
    "print(\"Name: \", person.name) # Name: Jane\n",
    "print(\"Age: \", person.age) # Age: 32"
   ]
  },
  {
   "cell_type": "code",
   "execution_count": 16,
   "id": "881b2add-0748-45e7-bfc6-baaf99a0a9e9",
   "metadata": {},
   "outputs": [
    {
     "name": "stdout",
     "output_type": "stream",
     "text": [
      "Bark\n",
      "Meow\n"
     ]
    },
    {
     "data": {
      "text/plain": [
       "'In this example, the Animal class has a method make_sound that outputs \"Animal sound\". The Dog class and Cat class both inherit from Animal, but they provide\\ntheir own implementation for the make_sound method, which outputs \"Bark\" and \"Meow\" respectively. When we create objects of the Dog and Cat classes and call the \\nmake_sound method on those objects, the method of the corresponding class is called, effectively \"overriding\" the method of the parent class.'"
      ]
     },
     "execution_count": 16,
     "metadata": {},
     "output_type": "execute_result"
    }
   ],
   "source": [
    "#ques5: What is method overriding in python? Write a python code to demonstrate method overriding.\n",
    "'''Method overriding is a feature in object-oriented programming languages where a child class can provide a different implementation for a method that is already\n",
    "defined in its parent class. This allows the child class to inherit the behavior of the parent class, but with a different implementation specific to the child \n",
    "class.'''\n",
    "\n",
    "class Animal:\n",
    "    def make_sound(self):\n",
    "        print(\"Animal sound\")\n",
    "\n",
    "class Dog(Animal):\n",
    "    def make_sound(self):\n",
    "        print(\"Bark\")\n",
    "\n",
    "class Cat(Animal):\n",
    "    def make_sound(self):\n",
    "        print(\"Meow\")\n",
    "\n",
    "dog = Dog()\n",
    "dog.make_sound() # Bark\n",
    "\n",
    "cat = Cat()\n",
    "cat.make_sound() # Meow\n",
    "'''In this example, the Animal class has a method make_sound that outputs \"Animal sound\". The Dog class and Cat class both inherit from Animal, but they provide\n",
    "their own implementation for the make_sound method, which outputs \"Bark\" and \"Meow\" respectively. When we create objects of the Dog and Cat classes and call the \n",
    "make_sound method on those objects, the method of the corresponding class is called, effectively \"overriding\" the method of the parent class.'''"
   ]
  }
 ],
 "metadata": {
  "kernelspec": {
   "display_name": "Python 3 (ipykernel)",
   "language": "python",
   "name": "python3"
  },
  "language_info": {
   "codemirror_mode": {
    "name": "ipython",
    "version": 3
   },
   "file_extension": ".py",
   "mimetype": "text/x-python",
   "name": "python",
   "nbconvert_exporter": "python",
   "pygments_lexer": "ipython3",
   "version": "3.10.8"
  }
 },
 "nbformat": 4,
 "nbformat_minor": 5
}
