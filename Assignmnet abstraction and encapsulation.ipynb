{
 "cells": [
  {
   "cell_type": "code",
   "execution_count": null,
   "id": "0357a1b5-8160-463f-9c04-2f6f80f38b0d",
   "metadata": {},
   "outputs": [],
   "source": [
    "#ques1: What is Abstraction in OOps? Explain with an example.\n",
    "'''Abstraction in Object-Oriented Programming (OOP) is the concept of hiding complex implementation details and exposing only essential information to the users.\n",
    "It is about simplifying complex real-world entities and representing them in the form of classes and objects, which can be easily understood, reused and managed.\n",
    "for example- \n",
    "consider a car. A car has a complex internal mechanism consisting of various parts such as engine, transmission, and wheels, but to a user, the car is simply a\n",
    "means of transportation. The user doesn't need to know the internal details of the car to drive it. This is abstraction, where the user is only concerned with\n",
    "the relevant information, i.e., start the engine, shift gears and drive.'''"
   ]
  },
  {
   "cell_type": "code",
   "execution_count": null,
   "id": "2cae909c-3595-45d9-b42f-e34f7c8ecceb",
   "metadata": {},
   "outputs": [],
   "source": [
    "#ques2: Differentiate between Abstraction and Encapsulation. Explain with an example.\n",
    "'''Abstraction and Encapsulation are two fundamental concepts in Object-Oriented Programming (OOP). Although related, they are distinct concepts with different \n",
    "purposes:\n",
    "\n",
    "Abstraction: Abstraction is about hiding complexity and presenting only the relevant information to the user. It is about simplifying complex real-world entities\n",
    "and representing them in the form of classes and objects, which can be easily understood, reused, and managed.\n",
    "\n",
    "Encapsulation: Encapsulation is about binding data and functions that operate on the data within an object. It is a mechanism of hiding the internal details of \n",
    "an object from the outside world and exposing only a public interface through which the object can be manipulated. Encapsulation provides data hiding and security.\n",
    "\n",
    "For example, consider a bank account. A bank account has data such as account number, account balance, and methods such as deposit and withdraw. Abstraction can \n",
    "be used to hide the complexity of the bank account's internal details, such as the calculation of interest, from the user. Encapsulation can be used to prevent \n",
    "the user from directly accessing and modifying the account balance, ensuring that all transactions go through the appropriate deposit and withdraw methods.'''\n"
   ]
  },
  {
   "cell_type": "code",
   "execution_count": null,
   "id": "07ae7aa7-8683-4c07-b19a-8beecad287b9",
   "metadata": {},
   "outputs": [],
   "source": [
    "#ques3: What is abc module in python? Why is it used?\n",
    "'''The \"abc\" module (Abstract Base Classes) in Python is a module that provides support for defining abstract base classes (ABCs). An abstract base class is a class\n",
    "that cannot be instantiated, but it provides a common interface for its derived classes. The purpose of an ABC is to provide a set of methods that must be \n",
    "implemented by its concrete (i.e. non-abstract) subclasses.The \"abc\" module is used when we want to define a common interface for a set of related classes, and\n",
    "we want to make sure that the concrete subclasses of this interface adhere to this interface. For example, if we want to define a common interface for all kinds\n",
    "of shapes, we can define an abstract base class \"Shape\" and make sure that all concrete classes that represent different shapes, such as \"Circle\", \"Rectangle\", \n",
    "and \"Triangle\", implement the methods declared by the \"Shape\" ABC.'''"
   ]
  },
  {
   "cell_type": "code",
   "execution_count": null,
   "id": "1735a3cf-5a63-4053-ad57-dde241debfd6",
   "metadata": {},
   "outputs": [],
   "source": [
    "#ques4: How can we achieve data abstraction?\n",
    "'''Data abstraction is the process of hiding the implementation details of data structures and presenting only the necessary information to the user. The \n",
    "following are some ways to achieve data abstraction in programming:-\n",
    "\n",
    "Classes and Objects: In Object-Oriented Programming (OOP), classes and objects can be used to represent real-world entities and encapsulate data. The data and \n",
    "methods that operate on the data can be encapsulated within the object, and only the necessary information can be exposed to the user.\n",
    "\n",
    "Interfaces and Abstract Classes: An interface is a blueprint for a class that specifies the methods that must be implemented by the concrete classes that \n",
    "implement the interface. An abstract class is a class that cannot be instantiated but provides a common interface for its derived classes. Both interfaces and \n",
    "abstract classes can be used to define the common behavior for a set of related classes and enforce the implementation of these behaviors.\n",
    "\n",
    "Data Hiding: Data hiding is a mechanism that restricts the direct access to an object's internal data. The data can only be accessed and manipulated through the \n",
    "methods defined by the object. This helps to maintain the integrity of the data and prevent unauthorized access and modification.\n",
    "\n",
    "Access Modifiers: Access modifiers are keywords that specify the accessibility of class members (i.e., fields, methods, etc.). For example, \"private\" is an access\n",
    "modifier that restricts the access to a class member to only the members of the same class, while \"public\" allows access from anywhere. Access modifiers can be \n",
    "used to control the visibility of class members and provide the desired level of data abstraction."
   ]
  },
  {
   "cell_type": "code",
   "execution_count": null,
   "id": "3adb8df4-6f7d-44a5-846f-a99ebc4c3b6c",
   "metadata": {},
   "outputs": [],
   "source": [
    "#ques5: Can we create an instance of an abstract class? Explain your answer.\n",
    "'''No, you cannot create an instance of an abstract class. An abstract class is a class that is declared as abstract and is intended to be used as a base class \n",
    "for other classes. It provides a common interface for its derived classes, but it cannot be instantiated on its own. An abstract class is meant to be subclassed,\n",
    "and its concrete subclasses must implement the abstract methods defined by the abstract class. The abstract class is used to provide a common interface and to\n",
    "enforce the implementation of certain methods by its subclasses.'''\n",
    "\n",
    "from abc import ABC, abstractmethod\n",
    "\n",
    "class Shape(ABC):\n",
    "    @abstractmethod\n",
    "    def area(self):\n",
    "        pass\n",
    "\n",
    "class Circle(Shape):\n",
    "    def __init__(self, radius):\n",
    "        self.radius = radius\n",
    "\n",
    "    def area(self):\n",
    "        return 3.14 * self.radius * self.radius\n",
    "\n",
    "    '''In this example, \"Shape\" is an abstract base class that defines an abstract method \"area\". The concrete subclass \"Circle\" implements the \"area\" method.\n",
    "    You cannot create an instance of the \"Shape\" class, but you can create an instance of the \"Circle\" class.'''"
   ]
  }
 ],
 "metadata": {
  "kernelspec": {
   "display_name": "Python 3 (ipykernel)",
   "language": "python",
   "name": "python3"
  },
  "language_info": {
   "codemirror_mode": {
    "name": "ipython",
    "version": 3
   },
   "file_extension": ".py",
   "mimetype": "text/x-python",
   "name": "python",
   "nbconvert_exporter": "python",
   "pygments_lexer": "ipython3",
   "version": "3.10.8"
  }
 },
 "nbformat": 4,
 "nbformat_minor": 5
}
