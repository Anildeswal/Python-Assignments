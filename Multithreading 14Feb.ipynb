{
 "cells": [
  {
   "cell_type": "code",
   "execution_count": null,
   "id": "f90c7bcc-3631-4dbf-b4b4-b6245bd8d618",
   "metadata": {},
   "outputs": [],
   "source": [
    "#Ques1: What is multithreading in python? why is it used? Name the module used to handle threads in python?\n",
    "'''Multithreading in Python is a way of executing multiple threads simultaneously in a single process to achieve better performance and responsiveness. Each \n",
    "thread is an independent flow of control within the same program. Multithreading is used in Python to perform tasks that can be parallelized, such as input/output\n",
    "operations or long-running computations, without blocking the main thread of the program. The module used to handle threads in Python is called \"threading\". It \n",
    "provides a way to create and manage threads, and includes synchronization primitives like locks and semaphores to avoid race conditions and ensure thread safety.'''"
   ]
  },
  {
   "cell_type": "code",
   "execution_count": null,
   "id": "77cf8bd4-a6ac-4639-88a8-bd3e06cc5643",
   "metadata": {},
   "outputs": [],
   "source": [
    "#Ques2: Why threading module used? Write the use of the following functions?\n",
    "# activeCount()\n",
    "# currentThread()\n",
    "# enumerate()\n",
    "''' The threading module in Python is used to create and manage threads. It provides a way to execute multiple threads simultaneously within a single process,\n",
    "which can lead to better performance and responsiveness in certain situations. Below are the use cases for the following functions in the threading module:-\n",
    "\n",
    "activeCount(): This function is used to get the number of currently active threads in the current thread's thread object. It returns the number of Thread objects\n",
    "that are currently active and running.\n",
    "\n",
    "currentThread(): This function is used to get a reference to the current Thread object. It returns the Thread object representing the current thread of execution\n",
    "\n",
    "enumerate(): This function is used to return a list of all currently active Thread objects. It returns a list of Thread objects representing all threads that are \n",
    "currently active and running in the current thread's thread object. It can be used to check the status of all threads in the program or to perform operations on\n",
    "them, such as joining or stopping them. '''"
   ]
  },
  {
   "cell_type": "code",
   "execution_count": null,
   "id": "646b7e64-f1f1-435e-8bcc-8141b554b30f",
   "metadata": {},
   "outputs": [],
   "source": [
    "#Ques3: Explain the following functions:\n",
    "# run()\n",
    "# start()\n",
    "# join()\n",
    "# isAlive()\n",
    "''' run(): This is a method of the Thread class that defines the code that will be executed when a thread is started. It is usually overridden by the user to \n",
    "define the task that the thread will perform.\n",
    "\n",
    "start(): This method is used to start a new thread and invoke the run() method of the Thread class. The new thread will begin execution and run concurrently with \n",
    "the other threads in the program.\n",
    "\n",
    "join(): This method is used to wait for a thread to complete its execution before the main thread continues. The main thread will pause execution until the joined\n",
    "thread has finished running. This is useful when a program needs to wait for a specific thread to complete before continuing to the next step.\n",
    "\n",
    "isAlive(): This method is used to check if a thread is currently executing. It returns a Boolean value that is True if the thread is currently running and False\n",
    "if it has completed execution. It can be used to determine if a thread is still active and performing its task, or if it has completed its work and is no longer \n",
    "needed.'''"
   ]
  },
  {
   "cell_type": "code",
   "execution_count": 1,
   "id": "0689f6c9-6130-468a-8b59-3999e967a5f7",
   "metadata": {},
   "outputs": [
    {
     "name": "stdout",
     "output_type": "stream",
     "text": [
      "Square of 1 is 1\n",
      "Square of 2 is 4\n",
      "Square of 3 is 9\n",
      "Square of 4 is 16\n",
      "Square of 5 is 25\n",
      "Square of 6 is 36\n",
      "Square of 7 is 49\n",
      "Square of 8 is 64\n",
      "Square of 9 is 81\n",
      "Square of 10 is 100\n",
      "Cube of 1 is 1\n",
      "Cube of 2 is 8\n",
      "Cube of 3 is 27\n",
      "Cube of 4 is 64\n",
      "Cube of 5 is 125\n",
      "Cube of 6 is 216\n",
      "Cube of 7 is 343\n",
      "Cube of 8 is 512\n",
      "Cube of 9 is 729\n",
      "Cube of 10 is 1000\n",
      "Done\n"
     ]
    }
   ],
   "source": [
    "#Ques4: Write a python program to create two threads. Thread one must print the list of squares and thread two must print the list of cubes.\n",
    "\n",
    "import threading\n",
    "\n",
    "def print_squares():\n",
    "    for i in range(1, 11):\n",
    "        print(f\"Square of {i} is {i**2}\")\n",
    "\n",
    "def print_cubes():\n",
    "    for i in range(1, 11):\n",
    "        print(f\"Cube of {i} is {i**3}\")\n",
    "\n",
    "t1 = threading.Thread(target=print_squares)\n",
    "t2 = threading.Thread(target=print_cubes)\n",
    "\n",
    "t1.start()\n",
    "t2.start()\n",
    "\n",
    "t1.join()\n",
    "t2.join()\n",
    "\n",
    "print(\"Done\")\n"
   ]
  },
  {
   "cell_type": "code",
   "execution_count": null,
   "id": "405b219c-344b-4901-b337-167e79f185b5",
   "metadata": {},
   "outputs": [],
   "source": [
    "#Ques5: State advantages and disadvantages of multithreading.\n",
    "''' Advantages of multithreading:-\n",
    "\n",
    "Improved performance: Multithreading can lead to better performance by allowing the program to execute multiple tasks concurrently, thereby utilizing the \n",
    "available CPU resources more efficiently.\n",
    "\n",
    "Improved responsiveness: Multithreading can make a program more responsive to user input by allowing the program to perform background tasks while still accepting\n",
    "user input.\n",
    "\n",
    "Simplified programming: Multithreading can simplify programming by allowing developers to separate complex tasks into smaller, more manageable threads that can \n",
    "execute concurrently.\n",
    "\n",
    "Resource sharing: Multithreading can allow threads to share resources such as memory and network connections, which can save memory and improve overall program \n",
    "efficiency.'''\n",
    "\n",
    "'''  Disadvantages of multithreading:-\n",
    "\n",
    "Complexity: Multithreading can increase the complexity of a program, making it harder to debug and maintain. Multithreading introduces race conditions and other \n",
    "synchronization issues that can be difficult to diagnose and fix.\n",
    "\n",
    "Overhead: Multithreading introduces overhead in terms of memory and CPU usage. Creating and managing threads requires additional memory and CPU resources, which \n",
    "can slow down the overall performance of the program.\n",
    "\n",
    "Synchronization issues: Multithreading can introduce synchronization issues, such as race conditions and deadlocks, which can cause the program to hang or crash.\n",
    "\n",
    "Difficulty in debugging: Debugging multithreaded code can be difficult, as it can be hard to reproduce the exact sequence of events that led to a bug. It can \n",
    "also be difficult to isolate the root cause of a bug, as it may be caused by interactions between multiple threads.'''"
   ]
  },
  {
   "cell_type": "code",
   "execution_count": null,
   "id": "477cd817-8a4d-419a-8ca9-438d71c1d84f",
   "metadata": {},
   "outputs": [],
   "source": [
    "#Ques6: Explain deadlocks and race conditions.\n",
    "'''Deadlocks: A deadlock occurs when two or more threads are waiting for each other to release resources, resulting in a situation where none of the threads can\n",
    "proceed. This can happen when each thread holds a resource that the other thread needs to continue execution. Deadlocks can cause a program to hang or crash, and \n",
    "they can be difficult to diagnose and fix.\n",
    "For example, imagine two threads, T1 and T2, are running concurrently, and they both need access to two shared resources, R1 and R2. If T1 acquires R1 and waits\n",
    "for R2, while T2 acquires R2 and waits for R1, both threads will be blocked, and the program will deadlock.\n",
    "\n",
    "Race conditions: A race condition occurs when two or more threads access a shared resource simultaneously, and the order of access affects the final outcome of \n",
    "the program. This can cause unpredictable behavior in the program and can be difficult to reproduce and debug.\n",
    "For example, imagine two threads, T1 and T2, are incrementing a shared variable, count, simultaneously. If T1 reads the value of count, increments it, and then \n",
    "writes the new value back to count, while T2 does the same thing at the same time, the final value of count will depend on the order of execution of the threads.\n",
    "If T1 and T2 both read the value 5, increment it to 6, and write it back, the final value of count could be 6 or 7, depending on the order in which the threads \n",
    "executed. This is a race condition, and it can cause unpredictable behavior in the program.'''"
   ]
  }
 ],
 "metadata": {
  "kernelspec": {
   "display_name": "Python 3 (ipykernel)",
   "language": "python",
   "name": "python3"
  },
  "language_info": {
   "codemirror_mode": {
    "name": "ipython",
    "version": 3
   },
   "file_extension": ".py",
   "mimetype": "text/x-python",
   "name": "python",
   "nbconvert_exporter": "python",
   "pygments_lexer": "ipython3",
   "version": "3.10.8"
  }
 },
 "nbformat": 4,
 "nbformat_minor": 5
}
