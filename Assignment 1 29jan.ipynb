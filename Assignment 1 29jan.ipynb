{
 "cells": [
  {
   "cell_type": "code",
   "execution_count": 2,
   "id": "e63173f0-3c3a-4a04-818a-eb60c4ee69c0",
   "metadata": {},
   "outputs": [
    {
     "name": "stdout",
     "output_type": "stream",
     "text": [
      "Object `language` not found.\n"
     ]
    }
   ],
   "source": [
    "ques1: Who developed python programming language?\n",
    "ans: Python was created by Guido van Rossum, and first released on February 20, 1991."
   ]
  },
  {
   "cell_type": "code",
   "execution_count": null,
   "id": "d9cf14b9-0a2c-4e36-b82c-aa04386d80f9",
   "metadata": {},
   "outputs": [],
   "source": [
    "ques2: Which type of programing does python support?\n",
    "ans: Python is an interpreted programming language, supporting object-oriented, structured, and functional programming."
   ]
  },
  {
   "cell_type": "code",
   "execution_count": null,
   "id": "2ff19ff0-957b-45be-af8f-6afcc7eb9062",
   "metadata": {},
   "outputs": [],
   "source": [
    "ques3: Is python case sensitive when dealing with identifier?\n",
    "ans: Yes,Python is a case-sensitive language."
   ]
  },
  {
   "cell_type": "code",
   "execution_count": null,
   "id": "ea748026-0124-4302-801f-e1b13b896045",
   "metadata": {},
   "outputs": [],
   "source": [
    "ques4: what is the correct extension of the python file?\n",
    "ans: '.py' is the correct extension of python file."
   ]
  },
  {
   "cell_type": "code",
   "execution_count": null,
   "id": "f8e409d3-94c8-4ff4-89b8-96d67edec7f4",
   "metadata": {},
   "outputs": [],
   "source": [
    "ques5: Is python code compiled or interpreted?\n",
    "ans: Python is an interpreted language, which means the source code of a Python program is converted into bytecode that is then executed by the Python virtual machine."
   ]
  },
  {
   "cell_type": "code",
   "execution_count": null,
   "id": "9f75eccc-5a8e-422b-8096-9b1d3f7a5315",
   "metadata": {},
   "outputs": [],
   "source": [
    "ques6: Name a few blocks of code used to define in python language?\n",
    "ans: Indentation is used to define a block of code in python."
   ]
  },
  {
   "cell_type": "code",
   "execution_count": null,
   "id": "82a05466-f902-4d6e-8145-841824e5f980",
   "metadata": {},
   "outputs": [],
   "source": [
    "ques7: State a character used to comment single-line comments?\n",
    "ans: '#' is used to comment a single line. "
   ]
  },
  {
   "cell_type": "code",
   "execution_count": null,
   "id": "5081d13f-9f93-456c-bb63-ddb33ad91905",
   "metadata": {},
   "outputs": [],
   "source": [
    "ques8: Mention functions which help us to find the version of python which we are currrently working on?\n",
    "ans: print(sys.version) gives the version of python."
   ]
  },
  {
   "cell_type": "code",
   "execution_count": null,
   "id": "9cc807d7-7e5d-4875-aecd-23d3cb7a3bd3",
   "metadata": {},
   "outputs": [],
   "source": [
    "ques9: Python supports the creation of anonymous functions at run-time using a construct called _____?\n",
    "ans: Lambda is an anonymous function in Python."
   ]
  },
  {
   "cell_type": "code",
   "execution_count": null,
   "id": "2a6f040f-3841-4a6b-b705-7784f536ab1f",
   "metadata": {},
   "outputs": [],
   "source": [
    "ques10: What does pip stand for python?\n",
    "ans: pip stands for \"preferred installer program\"."
   ]
  },
  {
   "cell_type": "code",
   "execution_count": null,
   "id": "ce54827f-387d-4bf8-ac3d-35ede197b038",
   "metadata": {},
   "outputs": [],
   "source": [
    "ques11: Mention a few built-in function in python?\n",
    "ans: Count,append,extend,replace,pop,remove,len,index,captalize,upper,lower,etc."
   ]
  },
  {
   "cell_type": "code",
   "execution_count": null,
   "id": "1a7e42db-c390-44ca-81fc-f6f3acfa722a",
   "metadata": {},
   "outputs": [],
   "source": [
    "ques12: What is the maximum possible length of a identifier in python?\n",
    "ans: An identifier can have a maximum length of 79 characters in Python."
   ]
  },
  {
   "cell_type": "code",
   "execution_count": null,
   "id": "97274a9f-5fbf-42fb-884d-ebd7736c48e3",
   "metadata": {},
   "outputs": [],
   "source": [
    "ques13: What are the benefits of using python?\n",
    "ans: Easy to learn and use. python is mostly used in every domain such as data science, web development ,game development,software development,etc."
   ]
  },
  {
   "cell_type": "code",
   "execution_count": null,
   "id": "a41882fb-049e-4288-b668-d27f0686bbb3",
   "metadata": {},
   "outputs": [],
   "source": [
    "ques14: How is memory managed in python?\n",
    "ans: Memory in Python is managed by Python private heap space. All Python objects and data structures are located in a private heap. This private heap is taken care of by Python Interpreter itself, and a programmer doesn't have access to this private heap."
   ]
  },
  {
   "cell_type": "code",
   "execution_count": null,
   "id": "22510537-79c1-4efa-be5b-d9f1808d6e3a",
   "metadata": {},
   "outputs": [],
   "source": [
    "ques15: How to install python on windows and set path variables?\n",
    "ans: You can install latest verion pf python from their official website \"python.org\"\n",
    "Your Python program and executable code can reside in any directory of your system, therefore Operating System provides a specific search path that index the directories Operating System should search for executable code.\n",
    "The Path is set in the Environment Variable of My Computer properties:\n",
    "To set path follow the steps:\n",
    "Right click on My Computer ->Properties ->Advanced System setting ->Environment Variable ->New\n",
    "\n",
    "In Variable name write path and in Variable value copy path up to C://Python(i.e., path where Python is installed). Click Ok ->Ok.\n",
    "\n",
    "Path will be set for executing Python programs."
   ]
  },
  {
   "cell_type": "code",
   "execution_count": null,
   "id": "7e38d5fd-56e2-403d-8b46-854e990e5ecc",
   "metadata": {},
   "outputs": [],
   "source": [
    "ques16: Is Indentation required in python?\n",
    "ans: Yes, Indentation plays important role in python without doing correct indentation it will through Indentation error."
   ]
  }
 ],
 "metadata": {
  "kernelspec": {
   "display_name": "Python 3 (ipykernel)",
   "language": "python",
   "name": "python3"
  },
  "language_info": {
   "codemirror_mode": {
    "name": "ipython",
    "version": 3
   },
   "file_extension": ".py",
   "mimetype": "text/x-python",
   "name": "python",
   "nbconvert_exporter": "python",
   "pygments_lexer": "ipython3",
   "version": "3.10.8"
  }
 },
 "nbformat": 4,
 "nbformat_minor": 5
}
