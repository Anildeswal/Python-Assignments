{
 "cells": [
  {
   "cell_type": "code",
   "execution_count": null,
   "id": "0f9ec0e0-91cf-4bd1-aa89-e740600fe90a",
   "metadata": {},
   "outputs": [],
   "source": [
    "#ques1: Q1. Which function is used to open a file? What are the different modes of opening a file? Explain each mode of file opening.\n",
    "'''The open function is used to open a file in Python. The different modes of opening a file are:\n",
    "\n",
    "'r' (read-only mode): This mode is used when you want to only read the contents of a file and not make any changes to it. This is the default mode and the file\n",
    "pointer is placed at the beginning of the file.\n",
    "\n",
    "'w' (write mode): This mode is used when you want to write to a file or create a new file if it doesn't exist. If the file already exists, its contents are \n",
    "truncated and the file pointer is placed at the beginning of the file.\n",
    "\n",
    "'a' (append mode): This mode is used when you want to add content to an existing file. The file pointer is placed at the end of the file, so all the data you \n",
    "write will be appended to the end of the file. If the file doesn't exist, a new file with the same name is created.\n",
    "\n",
    "'x' (exclusive creation mode): This mode is used when you want to create a new file, but only if it doesn't already exist. If the file already exists, the open \n",
    "function raises a FileExistsError.\n",
    "\n",
    "'b' (binary mode): This mode is used when you want to read or write binary data. When this mode is used along with any of the above modes, the file is opened in \n",
    "binary mode. For example, 'rb' opens the file in binary read mode, and 'wb' opens the file in binary write mode.\n",
    "\n",
    "'t' (text mode): This mode is used when you want to read or write text data. When this mode is used along with any of the above modes, the file is opened in text\n",
    "mode. For example, 'rt' opens the file in text read mode, and 'wt' opens the file in text write mode.'''\n",
    "\n",
    "f = open('example.txt', 'r') # Open the file in read mode\n",
    "contents = f.read() # Read the contents of the file\n",
    "f.close() # Close the file"
   ]
  },
  {
   "cell_type": "code",
   "execution_count": null,
   "id": "f4088707-1434-4c76-8119-526f13ea6f37",
   "metadata": {},
   "outputs": [],
   "source": [
    "#ques2: Why close() function is used? Why is it important to close a file?\n",
    "'''The close function is used to close a file after you have finished working with it. It is important to close a file for several reasons:\n",
    "\n",
    "Resource Management: When you open a file, your operating system allocates resources, such as memory and file handles, to manage the file. If you don't close the\n",
    "file, those resources will continue to be tied up even after you have finished working with the file. By closing the file, you release those resources back to the\n",
    "system, making them available for other programs to use.\n",
    "\n",
    "Data Consistency: When you write to a file, the data may not be immediately written to disk. Instead, it may be stored in a buffer in memory. When you close the \n",
    "file, any data that is still in the buffer is flushed to disk, ensuring that the data on disk is up-to-date and consistent.\n",
    "\n",
    "File Locking: Some operating systems lock a file when it is open, preventing other programs from accessing it. If you don't close the file, the lock will remain \n",
    "in place, potentially causing conflicts with other programs.\n",
    "\n",
    "Prevention of Data Corruption: When you open a file, your operating system maintains a file pointer, which is a marker indicating the current position in the \n",
    "file. If you don't close the file, the file pointer will remain open, potentially causing problems if you try to access the file again later.\n",
    "\n",
    "In short, closing a file ensures that the file is in a consistent state and that any resources associated with the file are freed up, making them available for\n",
    "other programs to use. To avoid these issues, it's a good practice to always close a file when you are done with it.'''"
   ]
  },
  {
   "cell_type": "code",
   "execution_count": 2,
   "id": "c0b7e445-824c-4d8d-b2a9-e6569dbe3345",
   "metadata": {},
   "outputs": [
    {
     "name": "stdout",
     "output_type": "stream",
     "text": [
      "I want to become a Data Scientist\n"
     ]
    }
   ],
   "source": [
    "#ques3: Q3. Write a python program to create a text file. Write ‘I want to become a Data Scientist’ in that file. Then close the file. Open this file and read\n",
    "#the content of the file.\n",
    "\n",
    "# Create a text file and write to it\n",
    "f = open(\"textfile.txt\", \"w\")\n",
    "f.write(\"I want to become a Data Scientist\")\n",
    "f.close()\n",
    "\n",
    "# Open the file and read its contents\n",
    "f = open(\"textfile.txt\", \"r\")\n",
    "content = f.read()\n",
    "print(content)\n",
    "f.close()"
   ]
  },
  {
   "cell_type": "code",
   "execution_count": 3,
   "id": "838131f8-ab87-4cef-8a1d-5537621208dd",
   "metadata": {},
   "outputs": [
    {
     "name": "stdout",
     "output_type": "stream",
     "text": [
      "I want to become a Data Scientist\n",
      "I want to become a Data Scientist\n",
      "I want to become a Data Scientist\n"
     ]
    }
   ],
   "source": [
    "#ques4: Explain the following with python code: read(), readline() and readlines().\n",
    "'''read(): This method reads the entire contents of the file and returns it as a single string. '''\n",
    "\n",
    "f = open(\"textfile.txt\", \"r\")\n",
    "content = f.read()\n",
    "print(content)\n",
    "f.close()\n",
    "\n",
    "'''readline(): This method reads a single line of the file and returns it as a string.'''\n",
    "\n",
    "f = open(\"textfile.txt\", \"r\")\n",
    "line = f.readline()\n",
    "while line:\n",
    "    print(line)\n",
    "    line = f.readline()\n",
    "f.close()\n",
    "\n",
    "'''readlines(): This method reads all the lines of the file and returns them as a list of strings, where each string represents a single line of the file.'''\n",
    "\n",
    "f = open(\"textfile.txt\", \"r\")\n",
    "lines = f.readlines()\n",
    "for line in lines:\n",
    "    print(line)\n",
    "f.close()"
   ]
  },
  {
   "cell_type": "code",
   "execution_count": 4,
   "id": "4d157fc2-77ea-4d6d-867e-f0c1c48c49b9",
   "metadata": {},
   "outputs": [
    {
     "name": "stdout",
     "output_type": "stream",
     "text": [
      "I want to become a Data Scientist\n"
     ]
    }
   ],
   "source": [
    "#ques5: Explain why with statement is used with open(). What is the advantage of using with statement and open() together?\n",
    "'''The \"with\" statement is often used with the open function in Python to handle files. The with statement provides a convenient way to manage the lifetime of a\n",
    "file, ensuring that the file is automatically closed when the block of code within the with statement is finished.'''\n",
    "\n",
    "with open(\"textfile.txt\", \"r\") as f:\n",
    "    content = f.read()\n",
    "    print(content)\n",
    "    \n",
    "'''Advantages of using the with statement with the open function include:-\n",
    "\n",
    "Resource management: The with statement automatically manages the lifetime of the file, ensuring that the file is closed when it's no longer needed. This \n",
    "eliminates the need to manually close the file, reducing the risk of resource leaks.\n",
    "\n",
    "Exception handling: If an exception is raised within the block of code within the with statement, the file will still be automatically closed, even if the \n",
    "exception is not handled. This helps to ensure that resources are properly managed and freed up.\n",
    "\n",
    "Simplified code: By using the with statement with the open function, you can write cleaner, more readable code that is easier to maintain and less prone to\n",
    "errors.'''"
   ]
  },
  {
   "cell_type": "code",
   "execution_count": 10,
   "id": "a9fde224-8bc5-4f1c-90ed-14d983a8a8b9",
   "metadata": {},
   "outputs": [
    {
     "name": "stdout",
     "output_type": "stream",
     "text": [
      "I want to become a Good Data Scientist I will work hard to achieve my goal\n"
     ]
    }
   ],
   "source": [
    "#ques6: Explain the write() and writelines() functions. Give a suitable example.\n",
    "'''write(): This function writes a string to the file. For example:-'''\n",
    "\n",
    "with open(\"textfile.txt\", \"w\") as f:\n",
    "    f.write(\"I want to become a Good Data Scientist\\n\")\n",
    "\n",
    "'''writelines(): This function writes a list of strings to the file. For example:-'''\n",
    "\n",
    "with open(\"textfile.txt\", \"w\") as f:\n",
    "    lines = [\"I want to become a Good Data Scientist\", \" I will work hard to achieve my goal\"]\n",
    "    f.writelines(lines)\n",
    "\n",
    "f = open(\"textfile.txt\", \"r\")\n",
    "content = f.readline()\n",
    "print(content)\n",
    "f.close()"
   ]
  }
 ],
 "metadata": {
  "kernelspec": {
   "display_name": "Python 3 (ipykernel)",
   "language": "python",
   "name": "python3"
  },
  "language_info": {
   "codemirror_mode": {
    "name": "ipython",
    "version": 3
   },
   "file_extension": ".py",
   "mimetype": "text/x-python",
   "name": "python",
   "nbconvert_exporter": "python",
   "pygments_lexer": "ipython3",
   "version": "3.10.8"
  }
 },
 "nbformat": 4,
 "nbformat_minor": 5
}
