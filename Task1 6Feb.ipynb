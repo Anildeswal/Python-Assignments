{
 "cells": [
  {
   "cell_type": "code",
   "execution_count": 5,
   "id": "e7262c2a-6100-4a02-a33e-122255b6c8d5",
   "metadata": {},
   "outputs": [
    {
     "name": "stdout",
     "output_type": "stream",
     "text": [
      "172279659957795228284743385088000\n"
     ]
    }
   ],
   "source": [
    "#ques1: Create a function which will take a list as an argument and return the product of all the numbers\n",
    "# after creating a flat list.\n",
    "# Use the below-given list as an argument for your function.\n",
    "\n",
    "\n",
    "\n",
    "list1 = [1,2,3,4, [44,55,66, True], False, (34,56,78,89,34), {1,2,3,3,2,1}, {1:34, \"key2\": [55, 67, 78, 89], 4: (45,\n",
    "22, 61, 34)}, [56, 'data science'], 'Machine Learning']\n",
    "\n",
    "\n",
    "def numeric_values(lst):\n",
    "    flat_list = []\n",
    "    for i in lst:\n",
    "        if type(i) in [int, float]:\n",
    "            flat_list.append(i)\n",
    "        elif type(i) == tuple:\n",
    "            for j in i:\n",
    "                if type(j) in [int, float]:\n",
    "                    flat_list.append(j)\n",
    "        elif type(i) == list:\n",
    "            for j in i:\n",
    "                if type(j) in [int, float]:\n",
    "                    flat_list.append(j)\n",
    "        elif type(i) == dict:\n",
    "            for j in i.values():\n",
    "                if type(j) in [int, float]:\n",
    "                    flat_list.append(j)\n",
    "                elif type(j) == list:\n",
    "                    for k in j:\n",
    "                        if type(k) in [int, float]:\n",
    "                            flat_list.append(k)\n",
    "                elif type(j) == tuple:\n",
    "                    for k in j:\n",
    "                        if type(k) in [int, float]:\n",
    "                            flat_list.append(k)\n",
    "    return flat_list\n",
    "\n",
    "numeric_list=(numeric_values(list1))\n",
    "from functools import reduce\n",
    "print(reduce(lambda x,y : x*y ,numeric_list))\n"
   ]
  },
  {
   "cell_type": "code",
   "execution_count": 7,
   "id": "00efc0c5-e7ba-4b83-bf43-ab8093709e75",
   "metadata": {},
   "outputs": [
    {
     "name": "stdout",
     "output_type": "stream",
     "text": [
      "Encrypted message:  i$wznt$to$yexome$z$dztz$sxientist.\n"
     ]
    }
   ],
   "source": [
    "#ques2: Write a python program for encrypting a message sent to you by your friend. The logic of encryption\n",
    "# should be such that, for a the output should be z. For b, the output should be y. For c, the output should\n",
    "# be x respectively. Also, the whitespace should be replaced with a dollar sign. Keep the punctuation\n",
    "# marks unchanged.\n",
    "# Input Sentence: I want to become a Data Scientist.\n",
    "# Encrypt the above input sentence using the program you just created.\n",
    "# Note: Convert the given input sentence into lowercase before encrypting. The final output should be\n",
    "# lowercase.\n",
    "\n",
    "def encrypt(message):\n",
    "    message = message.lower()\n",
    "    decoded = \"\"\n",
    "    for i in message:\n",
    "        if i == ' ':\n",
    "            decoded += '$'\n",
    "        elif i == 'a':\n",
    "            decoded += 'z'\n",
    "        elif i == 'b':\n",
    "            decoded += 'y'\n",
    "        elif i == 'c':\n",
    "            decoded += 'x'\n",
    "        else:\n",
    "            decoded += i\n",
    "    return decoded\n",
    "\n",
    "sentence = \"I want to become a Data Scientist.\"\n",
    "encrypted_sentence = encrypt(sentence.lower())\n",
    "print(\"Encrypted message: \", encrypted_sentence)"
   ]
  }
 ],
 "metadata": {
  "kernelspec": {
   "display_name": "Python 3 (ipykernel)",
   "language": "python",
   "name": "python3"
  },
  "language_info": {
   "codemirror_mode": {
    "name": "ipython",
    "version": 3
   },
   "file_extension": ".py",
   "mimetype": "text/x-python",
   "name": "python",
   "nbconvert_exporter": "python",
   "pygments_lexer": "ipython3",
   "version": "3.10.8"
  }
 },
 "nbformat": 4,
 "nbformat_minor": 5
}
