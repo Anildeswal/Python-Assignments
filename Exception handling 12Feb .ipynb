{
 "cells": [
  {
   "cell_type": "code",
   "execution_count": null,
   "id": "8c026d93-ded9-4263-8ab0-9c061f40e855",
   "metadata": {},
   "outputs": [],
   "source": [
    "# ques1: what is an exception in python ? write the difference between exceptions and syntex errors?\n",
    "''' An exception in Python is an event that occurs during the execution of a program that disrupts the normal flow of instructions. When an exception is\n",
    "encountered, the program stops executing and raises an exception, which can be caught and handled by the programmer.The difference between exceptions and syntax \n",
    "errors is that syntax errors are a type of error that occurs when the Python interpreter encounters a line of code that it can't parse, because it doesn't conform\n",
    "to the syntax of the language. On the other hand, exceptions are runtime errors that occur when the program is executing and encounter an error, like trying to\n",
    "divide by zero or accessing an element in a list that doesn't exist. \n",
    "\n",
    "syntax errors are detected and reported by the Python interpreter before the program starts running, while exceptions are detected and reported while the program\n",
    "is running.'''\n",
    "\n",
    "# Syntax Error\n",
    "if x = 0\n",
    "  print(\"x is 0\")\n",
    "  \n",
    "# Exception\n",
    "x = 10\n",
    "y = 0\n",
    "\n",
    "try:\n",
    "    result = x / y\n",
    "except ZeroDivisionError:\n",
    "    print(\"Cannot divide by zero\")"
   ]
  },
  {
   "cell_type": "code",
   "execution_count": null,
   "id": "c7991b42-35e4-44fa-ae16-8d2b03e2366b",
   "metadata": {},
   "outputs": [],
   "source": [
    "#ques2: what happens when an exception is not handled ? explain with an example?\n",
    "''' When an exception is not handled in Python, it will propagate up the call stack until it is caught by an exception handler. If no exception handler is found,\n",
    "the program will terminate and produce a traceback, which is a detailed report of the call stack that shows where the exception occurred. The traceback can be \n",
    "useful for debugging the error, but it can also make the program look unprofessional and difficult to understand for users.'''\n",
    "\n",
    "def divide(x, y):\n",
    "    result = x / y\n",
    "    return result\n",
    "\n",
    "num1 = 10\n",
    "num2 = 0\n",
    "\n",
    "print(divide(num1, num2))\n",
    "\n",
    "'''In this example, the divide function raises a ZeroDivisionError exception because it is trying to divide by zero. Since the exception is not handled, the \n",
    "program terminates and produces a traceback:-'''\n",
    "Traceback (most recent call last):\n",
    "  File \"example.py\", line 9, in <module>\n",
    "    print(divide(num1, num2))\n",
    "  File \"example.py\", line 4, in divide\n",
    "    result = x / y\n",
    "ZeroDivisionError: division by zero"
   ]
  },
  {
   "cell_type": "code",
   "execution_count": 2,
   "id": "74e16320-4922-41e4-bf00-2558874d1fc7",
   "metadata": {},
   "outputs": [
    {
     "name": "stdin",
     "output_type": "stream",
     "text": [
      "Enter a number:  50\n"
     ]
    },
    {
     "name": "stdout",
     "output_type": "stream",
     "text": [
      "50\n"
     ]
    },
    {
     "name": "stdin",
     "output_type": "stream",
     "text": [
      "Enter a number:  0\n"
     ]
    },
    {
     "name": "stdout",
     "output_type": "stream",
     "text": [
      "Cannot divide by zero.\n"
     ]
    }
   ],
   "source": [
    "#ques3 : which python statements are used to catch and handle exceptions? explain with an examples?\n",
    "''' In Python, the try and except statements are used to catch and handle exceptions. The try statement is used to enclose the code that might raise an exception,\n",
    "and the except statement is used to handle the exception if it is raised.'''\n",
    "\n",
    "try:\n",
    "    x = int(input(\"Enter a number: \"))\n",
    "    print(x)\n",
    "except ValueError:\n",
    "    print(\"Invalid input. Please enter a valid number.\")\n",
    "    \n",
    "try:\n",
    "    x = int(input(\"Enter a number: \"))\n",
    "    y = 10 / x\n",
    "    print(y)\n",
    "except ValueError:\n",
    "    print(\"Invalid input. Please enter a valid number.\")\n",
    "except ZeroDivisionError:\n",
    "    print(\"Cannot divide by zero.\")"
   ]
  },
  {
   "cell_type": "code",
   "execution_count": 3,
   "id": "4e8e9206-8510-44da-a106-a6c1e04b3920",
   "metadata": {},
   "outputs": [
    {
     "name": "stdout",
     "output_type": "stream",
     "text": [
      "Error: Cannot divide by zero.\n"
     ]
    }
   ],
   "source": [
    "#ques4 : Explain with an example-\n",
    "# 1. try and else\n",
    "# 2. finally\n",
    "# 3. raise\n",
    "\n",
    "''' The try and except statements in Python are used to handle exceptions. The try statement encloses a block of code that might raise an exception, and the\n",
    "except statement provides a way to handle the exception if it is raised.'''\n",
    "\n",
    "try:\n",
    "    x = 10\n",
    "    y = 0\n",
    "    result = x / y\n",
    "except ZeroDivisionError:\n",
    "    print(\"Error: Cannot divide by zero.\")"
   ]
  },
  {
   "cell_type": "code",
   "execution_count": 4,
   "id": "03415276-0a0d-45d4-b95d-17f2a4916a9f",
   "metadata": {},
   "outputs": [
    {
     "name": "stdin",
     "output_type": "stream",
     "text": [
      "Enter a number:  0\n"
     ]
    },
    {
     "name": "stdout",
     "output_type": "stream",
     "text": [
      "Cannot divide by zero.\n",
      "This is the finally block.\n"
     ]
    }
   ],
   "source": [
    "'''The finally statement in Python is used to specify a block of code that will be executed regardless of whether an exception is raised or not. The finally \n",
    "block is typically used to release resources or perform clean-up actions that need to be executed regardless of whether an exception occurs or not.'''\n",
    "\n",
    "try:\n",
    "    x = int(input(\"Enter a number: \"))\n",
    "    y = 10 / x\n",
    "    print(y)\n",
    "except ValueError:\n",
    "    print(\"Invalid input. Please enter a valid number.\")\n",
    "except ZeroDivisionError:\n",
    "    print(\"Cannot divide by zero.\")\n",
    "finally:\n",
    "    print(\"This is the finally block.\")"
   ]
  },
  {
   "cell_type": "code",
   "execution_count": 5,
   "id": "cc0b511f-1940-4ab7-ab42-d30869649fa1",
   "metadata": {},
   "outputs": [
    {
     "name": "stdout",
     "output_type": "stream",
     "text": [
      "Error: division by zero\n"
     ]
    }
   ],
   "source": [
    "'''The raise statement in Python is used to manually raise an exception. This can be useful when you want to signal that an error has occurred in your code, or \n",
    "when you want to stop the execution of the program and raise an exception to indicate a specific error condition.'''\n",
    "\n",
    "def divide(x, y):\n",
    "    if y == 0:\n",
    "        raise ZeroDivisionError(\"division by zero\")\n",
    "    return x / y\n",
    "\n",
    "try:\n",
    "    result = divide(10, 0)\n",
    "    print(result)\n",
    "except ZeroDivisionError as e:\n",
    "    print(\"Error:\", e)"
   ]
  },
  {
   "cell_type": "code",
   "execution_count": 6,
   "id": "e0a9d65c-05ab-4148-a110-c0213ac2bb8c",
   "metadata": {},
   "outputs": [
    {
     "name": "stdout",
     "output_type": "stream",
     "text": [
      "Error: input must be an integer\n"
     ]
    }
   ],
   "source": [
    "# ques5: what are custom exceptions in python ? why do we need custom exceptions? explain with an example?\n",
    "'''In Python, you can create your own custom exceptions by defining a new class that inherits from the built-in Exception class. Custom exceptions can be useful\n",
    "when you want to signal a specific error condition that is not covered by the built-in exceptions, or when you want to provide a more meaningful error message.'''\n",
    "\n",
    "class InvalidInputError(Exception):\n",
    "    pass\n",
    "\n",
    "def divide(x, y):\n",
    "    if y == 0:\n",
    "        raise ZeroDivisionError(\"division by zero\")\n",
    "    if not isinstance(x, int) or not isinstance(y, int):\n",
    "        raise InvalidInputError(\"input must be an integer\")\n",
    "    return x / y\n",
    "\n",
    "try:\n",
    "    result = divide(10, \"0\")\n",
    "    print(result)\n",
    "except ZeroDivisionError as e:\n",
    "    print(\"Error:\", e)\n",
    "except InvalidInputError as e:\n",
    "    print(\"Error:\", e)"
   ]
  },
  {
   "cell_type": "code",
   "execution_count": 9,
   "id": "9e6591da-e48e-4c2d-bc73-eb6144964cdb",
   "metadata": {},
   "outputs": [
    {
     "name": "stdin",
     "output_type": "stream",
     "text": [
      "enter your password 3215\n"
     ]
    },
    {
     "name": "stdout",
     "output_type": "stream",
     "text": [
      "incorrect password try again\n"
     ]
    }
   ],
   "source": [
    "# ques6: create a custom exception class, use this class to handle an exception.\n",
    " \n",
    "class exceptions(Exception):\n",
    "    def __init__(self,msg):\n",
    "        self.msg = msg\n",
    "        \n",
    "def password_checker(password):\n",
    "    if password !=1234:\n",
    "        raise exceptions('incorrect password try again')\n",
    "    else:\n",
    "        print('login sucessfull')\n",
    "        \n",
    "try:\n",
    "    a = int(input('enter your password'))\n",
    "    password_checker(a)\n",
    "except exceptions as e:\n",
    "    print(e)"
   ]
  },
  {
   "cell_type": "code",
   "execution_count": null,
   "id": "013f8063-839d-4253-987c-34f4ca61c8bf",
   "metadata": {},
   "outputs": [],
   "source": []
  }
 ],
 "metadata": {
  "kernelspec": {
   "display_name": "Python 3 (ipykernel)",
   "language": "python",
   "name": "python3"
  },
  "language_info": {
   "codemirror_mode": {
    "name": "ipython",
    "version": 3
   },
   "file_extension": ".py",
   "mimetype": "text/x-python",
   "name": "python",
   "nbconvert_exporter": "python",
   "pygments_lexer": "ipython3",
   "version": "3.10.8"
  }
 },
 "nbformat": 4,
 "nbformat_minor": 5
}
