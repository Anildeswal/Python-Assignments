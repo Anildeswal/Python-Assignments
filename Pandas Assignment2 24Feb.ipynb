{
 "cells": [
  {
   "cell_type": "code",
   "execution_count": null,
   "id": "84b074bd-a77c-4225-9a72-733371bb8a99",
   "metadata": {},
   "outputs": [],
   "source": [
    "#Ques1: List any five functions of the pandas library with execution.\n",
    "'''\n",
    "1. read_csv(): This function is used to read data from a CSV file and create a DataFrame object.'''\n",
    "import pandas as pd\n",
    "\n",
    "df = pd.read_csv('data.csv')\n",
    "print(df.head())\n",
    "\n",
    "'''\n",
    "2. info(): This function provides information about the DataFrame such as data types, non-null values, and memory usage.'''\n",
    "import pandas as pd\n",
    "\n",
    "df = pd.read_csv('data.csv')\n",
    "print(df.info())\n",
    "\n",
    "'''\n",
    "3. describe(): This function provides descriptive statistics about the DataFrame such as count, mean, standard deviation, minimum, and maximum values.'''\n",
    "import pandas as pd\n",
    "\n",
    "df = pd.read_csv('data.csv')\n",
    "print(df.describe())\n",
    "\n",
    "'''\n",
    "4. dropna(): This function is used to remove rows or columns with missing data from the DataFrame.'''\n",
    "import pandas as pd\n",
    "\n",
    "df = pd.read_csv('data.csv')\n",
    "df = df.dropna()\n",
    "print(df.head())\n",
    "\n",
    "'''\n",
    "5. groupby(): This function is used to group data based on one or more columns and apply functions such as mean, sum, count, and max.'''\n",
    "import pandas as pd\n",
    "\n",
    "df = pd.read_csv('data.csv')\n",
    "grouped_data = df.groupby(['Category'])['Sales'].sum()\n",
    "print(grouped_data)"
   ]
  },
  {
   "cell_type": "code",
   "execution_count": 2,
   "id": "fde3cb88-f474-4767-9927-613503220325",
   "metadata": {},
   "outputs": [
    {
     "name": "stdout",
     "output_type": "stream",
     "text": [
      "Original DataFrame:\n",
      "   A  B  C\n",
      "0  1  4  7\n",
      "1  2  5  8\n",
      "2  3  6  9\n",
      "Reindexed DataFrame:\n",
      "   A  B  C\n",
      "1  1  4  7\n",
      "3  2  5  8\n",
      "5  3  6  9\n"
     ]
    }
   ],
   "source": [
    "#Ques2: Given a Pandas DataFrame df with columns 'A', 'B', and 'C', write a Python function to re-index the DataFrame with a new index that starts from 1 and\n",
    "# increments by 2 for each row.\n",
    "\n",
    "import pandas as pd\n",
    "\n",
    "def reindex_df(df):\n",
    "    new_index = range(1, 2 * len(df) + 1, 2)\n",
    "    df.index = new_index\n",
    "    return df\n",
    "\n",
    "df = pd.DataFrame({'A': [1, 2, 3], 'B': [4, 5, 6], 'C': [7, 8, 9]})\n",
    "print(\"Original DataFrame:\")\n",
    "print(df)\n",
    "\n",
    "df = reindex_df(df)\n",
    "print(\"Reindexed DataFrame:\")\n",
    "print(df)"
   ]
  },
  {
   "cell_type": "code",
   "execution_count": 7,
   "id": "e0e61385-a91e-4be7-9b75-09642a1e3f5a",
   "metadata": {},
   "outputs": [
    {
     "name": "stdout",
     "output_type": "stream",
     "text": [
      "DataFrame:\n",
      "   Values\n",
      "0      10\n",
      "1      20\n",
      "2      30\n",
      "3      40\n",
      "4      50\n",
      "The sum of the first three values in the 'Values' column is: 60\n"
     ]
    }
   ],
   "source": [
    "#Ques3: You have a Pandas DataFrame df with a column named 'Values'. Write a Python function that iterates over the DataFrame and calculates the sum of the first \n",
    "# three values in the 'Values' column. The function should print the sum to the console.\n",
    "\n",
    "import pandas as pd\n",
    "\n",
    "def sum_first_three_values(df):\n",
    "    total = df['Values'].head(3).sum()\n",
    "    print(\"The sum of the first three values in the 'Values' column is:\", total)\n",
    "\n",
    "df = pd.DataFrame({'Values': [10, 20, 30, 40, 50]})\n",
    "print(\"DataFrame:\")\n",
    "print(df)\n",
    "\n",
    "sum_first_three_values(df)"
   ]
  },
  {
   "cell_type": "code",
   "execution_count": 8,
   "id": "ba04472a-70fc-46f5-8a70-ed8f52fdbf14",
   "metadata": {},
   "outputs": [
    {
     "name": "stdout",
     "output_type": "stream",
     "text": [
      "DataFrame:\n",
      "                               Text\n",
      "0         This is a sample sentence\n",
      "1  Another sentence with more words\n",
      "DataFrame with Word_Count column:\n",
      "                               Text  Word_Count\n",
      "0         This is a sample sentence           5\n",
      "1  Another sentence with more words           5\n"
     ]
    }
   ],
   "source": [
    "#Ques4: Given a Pandas DataFrame df with a column 'Text', write a Python function to create a new column 'Word_Count' that contains the number of words in each \n",
    "# row of the 'Text' column.\n",
    "\n",
    "import pandas as pd\n",
    "\n",
    "def add_word_count(df):\n",
    "    df['Word_Count'] = df['Text'].apply(lambda x: len(x.split()))\n",
    "    return df\n",
    "\n",
    "df = pd.DataFrame({'Text': ['This is a sample sentence', 'Another sentence with more words']})\n",
    "print(\"DataFrame:\")\n",
    "print(df)\n",
    "\n",
    "df = add_word_count(df)\n",
    "print(\"DataFrame with Word_Count column:\")\n",
    "print(df)"
   ]
  },
  {
   "cell_type": "code",
   "execution_count": null,
   "id": "2302ab3f-71fc-4849-adc0-c4b5ebff448f",
   "metadata": {},
   "outputs": [],
   "source": [
    "#Ques5: How are DataFrame.size() and DataFrame.shape() different?\n",
    "'''Both DataFrame.size and DataFrame.shape are methods that can be used to obtain information about the shape of a Pandas DataFrame, but they return different \n",
    "values.\n",
    "DataFrame.size returns the total number of elements in the DataFrame, which is equal to the number of rows multiplied by the number of columns. For example, if a \n",
    "DataFrame has 5 rows and 3 columns, DataFrame.size will return 15.\n",
    "\n",
    "DataFrame.shape returns a tuple representing the dimensions of the DataFrame, in the form of (number of rows, number of columns). For example, if a DataFrame has\n",
    "5 rows and 3 columns, DataFrame.shape will return (5, 3)."
   ]
  },
  {
   "cell_type": "code",
   "execution_count": null,
   "id": "2f09d21f-1f96-4424-803a-33c602bb4651",
   "metadata": {},
   "outputs": [],
   "source": [
    "#Ques6: Which function of pandas do we use to read an excel file?\n",
    "'''In Pandas, we use the read_excel() function to read an Excel file. This function is part of the pandas module, and it allows us to read data from an Excel file\n",
    "into a Pandas DataFrame.By default, the read_excel() function reads the first sheet of the Excel file. However, we can also specify the sheet name or index using\n",
    "the sheet_name parameter. Additionally, there are several other parameters that we can use to customize how the data is read from the Excel file, such as \n",
    "specifying the range of rows and columns to read, skipping rows and/or columns, and specifying the data types of the columns'''\n",
    "\n",
    "import pandas as pd\n",
    "df = pd.read_excel('data.xlsx')"
   ]
  },
  {
   "cell_type": "code",
   "execution_count": 11,
   "id": "ca25474b-a27c-4783-bb56-98c236dc534f",
   "metadata": {},
   "outputs": [
    {
     "name": "stdout",
     "output_type": "stream",
     "text": [
      "DataFrame:\n",
      "                     Email\n",
      "0  anil.deswal@example.com\n",
      "1    pw.skills@example.com\n",
      "DataFrame with Username column:\n",
      "                     Email     Username\n",
      "0  anil.deswal@example.com  anil.deswal\n",
      "1    pw.skills@example.com    pw.skills\n"
     ]
    }
   ],
   "source": [
    "# Ques7: You have a Pandas DataFrame df that contains a column named 'Email' that contains email addresses in the format 'username@domain.com'. Write a Python \n",
    "# function that creates a new column 'Username' in df that contains only the username part of each email address. The username is the part of the email address that\n",
    "# appears before the '@' symbol. For example, if the email address is 'john.doe@example.com', the 'Username' column should contain 'john.doe'. Your function should \n",
    "# extract the username from each email address and store it in the new 'Username' column.\n",
    "\n",
    "import pandas as pd\n",
    "\n",
    "def extract_username(df):\n",
    "    df['Username'] = df['Email'].apply(lambda x: x.split('@')[0])\n",
    "    return df\n",
    "\n",
    "df = pd.DataFrame({'Email': ['anil.deswal@example.com', 'pw.skills@example.com']})\n",
    "print(\"DataFrame:\")\n",
    "print(df)\n",
    "\n",
    "df = extract_username(df)\n",
    "print(\"DataFrame with Username column:\")\n",
    "print(df)"
   ]
  },
  {
   "cell_type": "code",
   "execution_count": 12,
   "id": "189302d9-682c-4924-9da2-1a012a07ad58",
   "metadata": {},
   "outputs": [
    {
     "name": "stdout",
     "output_type": "stream",
     "text": [
      "DataFrame:\n",
      "   A  B  C\n",
      "0  3  5  1\n",
      "1  8  2  7\n",
      "2  6  9  4\n",
      "3  2  3  5\n",
      "4  9  1  2\n",
      "Selected rows:\n",
      "   A  B  C\n",
      "1  8  2  7\n",
      "2  6  9  4\n",
      "4  9  1  2\n"
     ]
    }
   ],
   "source": [
    "# Ques8: You have a Pandas DataFrame df with columns 'A', 'B', and 'C'. Write a Python function that selects\n",
    "# all rows where the value in column 'A' is greater than 5 and the value in column 'B' is less than 10. The\n",
    "# function should return a new DataFrame that contains only the selected rows.\n",
    "# For example, if df contains the following values:\n",
    "# A B C\n",
    "# 0 3 5 1\n",
    "# 1 8 2 7\n",
    "# 2 6 9 4\n",
    "# 3 2 3 5\n",
    "# 4 9 1 2\n",
    "\n",
    "# Your function should select the following rows: A B C\n",
    "# 1 8 2 7\n",
    "# 4 9 1 2\n",
    "# The function should return a new DataFrame that contains only the selected rows.\n",
    "\n",
    "\n",
    "import pandas as pd\n",
    "\n",
    "def select_rows(df):\n",
    "    selected_rows = df[(df['A'] > 5) & (df['B'] < 10)]\n",
    "    return selected_rows\n",
    "\n",
    "\n",
    "df = pd.DataFrame({'A': [3, 8, 6, 2, 9], 'B': [5, 2, 9, 3, 1], 'C': [1, 7, 4, 5, 2]})\n",
    "print(\"DataFrame:\")\n",
    "print(df)\n",
    "\n",
    "selected_rows = select_rows(df)\n",
    "print(\"Selected rows:\")\n",
    "print(selected_rows)"
   ]
  },
  {
   "cell_type": "code",
   "execution_count": 14,
   "id": "c8ccec4c-f162-4e12-b1b7-0e6c5165b070",
   "metadata": {},
   "outputs": [
    {
     "name": "stdout",
     "output_type": "stream",
     "text": [
      "DataFrame:\n",
      "   Values\n",
      "0       1\n",
      "1       2\n",
      "2       3\n",
      "3       4\n",
      "4       5\n",
      "Mean: 3.00\n",
      "Median: 3.00\n",
      "Standard deviation: 1.58\n"
     ]
    }
   ],
   "source": [
    "#Ques9: Given a Pandas DataFrame df with a column 'Values', write a Python function to calculate the mean, median, and standard deviation of the values in the \n",
    "# 'Values' column.\n",
    "\n",
    "import pandas as pd\n",
    "\n",
    "def calculate_stats(df):\n",
    "    mean = df['Values'].mean()\n",
    "    median = df['Values'].median()\n",
    "    std = df['Values'].std()\n",
    "    return mean, median, std\n",
    "\n",
    "df = pd.DataFrame({'Values': [1, 2, 3, 4, 5]})\n",
    "print(\"DataFrame:\")\n",
    "print(df)\n",
    "\n",
    "mean, median, std = calculate_stats(df)\n",
    "print(\"Mean: {:.2f}\".format(mean))\n",
    "print(\"Median: {:.2f}\".format(median))\n",
    "print(\"Standard deviation: {:.2f}\".format(std))"
   ]
  },
  {
   "cell_type": "code",
   "execution_count": 24,
   "id": "7e06a2c9-9bb0-4bd1-851a-ca13420299f4",
   "metadata": {},
   "outputs": [],
   "source": [
    "# Ques10: Given a Pandas DataFrame df with a column 'Sales' and a column 'Date', write a Python function to create a new column 'MovingAverage' that contains the \n",
    "# moving average of the sales for the past 7 days for each row in the DataFrame. The moving average should be calculated using a window of size 7 and should include\n",
    "# the current day.\n",
    "\n",
    "import pandas as pd\n",
    "\n",
    "def calculate_moving_average(df):\n",
    "    # Sort the DataFrame by date\n",
    "    df = df.sort_values('Date')\n",
    "    \n",
    "    # Set the index to the date column\n",
    "    df.set_index('Date', inplace=True)\n",
    "    \n",
    "    # Calculate the rolling mean with a window size of 7 days\n",
    "    rolling_mean = df.rolling(window=7, min_periods=1).mean()\n",
    "    \n",
    "    # Add a new column to the DataFrame with the rolling mean values\n",
    "    df['MovingAverage'] = rolling_mean\n",
    "    \n",
    "    # Reset the index to the default index\n",
    "    df.reset_index(inplace=True)\n",
    "    \n",
    "    return df"
   ]
  },
  {
   "cell_type": "code",
   "execution_count": 25,
   "id": "88f9a010-0b6d-4255-91a2-692d87f06c2b",
   "metadata": {},
   "outputs": [],
   "source": [
    "#Ques11: Q11. You have a Pandas DataFrame df with a column 'Date'. Write a Python function that creates a new column 'Weekday' in the DataFrame. The 'Weekday' \n",
    "# column should contain the weekday name (e.g.Monday, Tuesday) corresponding to each date in the 'Date' column. For example, if df contains the following values:\n",
    "# Date\n",
    "\n",
    "# 0 2023-01-01\n",
    "# 1 2023-01-02\n",
    "# 2 2023-01-03\n",
    "# 3 2023-01-04\n",
    "# 4 2023-01-05\n",
    "# Your function should create the following DataFrame:\n",
    "\n",
    "# Date Weekday\n",
    "# 0 2023-01-01 Sunday\n",
    "# 1 2023-01-02 Monday\n",
    "# 2 2023-01-03 Tuesday\n",
    "# 3 2023-01-04 Wednesday\n",
    "# 4 2023-01-05 Thursday\n",
    "# The function should return the modified DataFrame.\n",
    "\n",
    "import pandas as pd\n",
    "\n",
    "def add_weekday_column(df):\n",
    "    # Convert 'Date' column to datetime type\n",
    "    df['Date'] = pd.to_datetime(df['Date'])\n",
    "    \n",
    "    # Extract weekday name and store in 'Weekday' column\n",
    "    df['Weekday'] = df['Date'].dt.weekday_name\n",
    "    \n",
    "    return df"
   ]
  },
  {
   "cell_type": "code",
   "execution_count": 26,
   "id": "58d804f3-47c8-4342-9b8c-f3f313c576b4",
   "metadata": {},
   "outputs": [],
   "source": [
    "# Ques12: Given a Pandas DataFrame df with a column 'Date' that contains timestamps, write a Python function to select all rows where the date is between\n",
    "# '2023-01-01' and '2023-01-31'.\n",
    "\n",
    "import pandas as pd\n",
    "\n",
    "def select_january(df):\n",
    "    # Convert 'Date' column to datetime\n",
    "    df['Date'] = pd.to_datetime(df['Date'])\n",
    "    # Filter for dates between January 1 and January 31, 2023\n",
    "    january_mask = (df['Date'] >= '2023-01-01') & (df['Date'] <= '2023-01-31')\n",
    "    return df[january_mask]"
   ]
  },
  {
   "cell_type": "code",
   "execution_count": null,
   "id": "f96f2733-8e1f-4780-88e0-e142ba0caea0",
   "metadata": {},
   "outputs": [],
   "source": [
    "#Ques13: To use the basic functions of pandas, what is the first and foremost necessary library that needs to be imported?\n",
    "'''The first and foremost necessary library that needs to be imported to use the basic functions of pandas is pandas itself. The convention is to import pandas\n",
    "using the alias pd.'''\n",
    "\n",
    "import pandas as pd\n",
    "\n",
    "''' If you want to update Pandas library, Then install again'''\n",
    "pip install pandas"
   ]
  }
 ],
 "metadata": {
  "kernelspec": {
   "display_name": "Python 3 (ipykernel)",
   "language": "python",
   "name": "python3"
  },
  "language_info": {
   "codemirror_mode": {
    "name": "ipython",
    "version": 3
   },
   "file_extension": ".py",
   "mimetype": "text/x-python",
   "name": "python",
   "nbconvert_exporter": "python",
   "pygments_lexer": "ipython3",
   "version": "3.10.8"
  }
 },
 "nbformat": 4,
 "nbformat_minor": 5
}
