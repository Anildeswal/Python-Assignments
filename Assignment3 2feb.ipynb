{
 "cells": [
  {
   "cell_type": "code",
   "execution_count": null,
   "id": "3570d3e3-196a-455c-9e73-c100f40ca087",
   "metadata": {},
   "outputs": [],
   "source": [
    "#ques: Explain with an example of each when to use a for loop and while loop?\n",
    "'''ans: For loop is used when we already know the number of iterations, which means when we know how many times \n",
    "a statement has to be executed. That is why we have to specify the ending point in the for loop initialization.\n",
    "in While loop, no prior information on the number of iterations or we have to take input from users'''\n",
    "#example of For loop-\n",
    "n = [1, 2, 3]  # Initialization\n",
    "for i in n:  # Condition and Updation\n",
    "    print(i)\n",
    "    \n",
    "#example of While loop-\n",
    "i = 1  # Initialization\n",
    "while i < 6:  # Condition\n",
    "    print(i)\n",
    "    i += 1  # Updation"
   ]
  },
  {
   "cell_type": "code",
   "execution_count": 14,
   "id": "d6f6db06-4715-403e-970b-7edb00eeaaa0",
   "metadata": {},
   "outputs": [
    {
     "name": "stdout",
     "output_type": "stream",
     "text": [
      "55\n"
     ]
    }
   ],
   "source": [
    "#ques2: Write a python program to print the sum and product of the first 10 natural numbers using for loop and while loop?\n",
    "# First we do with For loop-\n",
    "a=0\n",
    "for i in range(1,11):\n",
    "    a=a+i       #This is for sum of first 10 natural numbers\n",
    "print(a)"
   ]
  },
  {
   "cell_type": "code",
   "execution_count": 16,
   "id": "77d5e47c-da86-48f8-9e5e-573fd349d694",
   "metadata": {},
   "outputs": [
    {
     "name": "stdout",
     "output_type": "stream",
     "text": [
      "3628800\n"
     ]
    }
   ],
   "source": [
    "a=1\n",
    "for i in range(1,11):\n",
    "    a=a*i        #This is for product of first 10 natural numbers\n",
    "print(a)"
   ]
  },
  {
   "cell_type": "code",
   "execution_count": 1,
   "id": "55dd1452-581d-4377-97e0-3bf58d25264b",
   "metadata": {},
   "outputs": [
    {
     "name": "stdout",
     "output_type": "stream",
     "text": [
      "55\n"
     ]
    }
   ],
   "source": [
    "#Now we do with While loop-\n",
    "a=1\n",
    "count=0\n",
    "while a<=10:\n",
    "    count=count+a  #This is for sum of first 10 natural numbers using while loop\n",
    "    a+=1\n",
    "print(count)"
   ]
  },
  {
   "cell_type": "code",
   "execution_count": 2,
   "id": "20b0d1d0-886d-41ab-a759-0906ef86f6ce",
   "metadata": {},
   "outputs": [
    {
     "name": "stdout",
     "output_type": "stream",
     "text": [
      "3628800\n"
     ]
    }
   ],
   "source": [
    "a=1\n",
    "product=1\n",
    "while a<=10:\n",
    "    product=product*a     #This is for product of first 10 natural numbers using while loop\n",
    "    a+=1\n",
    "print(product)\n"
   ]
  },
  {
   "cell_type": "code",
   "execution_count": 31,
   "id": "2e51e609-e765-43f9-9bcf-cd3eb537f45b",
   "metadata": {},
   "outputs": [
    {
     "name": "stdin",
     "output_type": "stream",
     "text": [
      "Enter your Units - 310\n"
     ]
    },
    {
     "name": "stdout",
     "output_type": "stream",
     "text": [
      "You are a special case your bill amount is: \n",
      "2250\n"
     ]
    }
   ],
   "source": [
    "#ques3: Create a python program to compute a elecricty bill of a household.\n",
    "#The per unit charges aare as follows:For the first 100 units,The user will be charged Rs 4.5 per unit\n",
    "#For the next 100 units, The user will be charged Rs 6 per unit. For the next 100 units, The user will be charged Rs.10\n",
    "#per unit,After 300 units and above the user will be charged Rs 20 per unit. You are required to take the electricty bill unts from\n",
    "#the user as input. and Your program must pass this test case: when the unit of electricty consumed by the user in a month is \n",
    "#310. te total electicity bill should be 2250.\n",
    "\n",
    "def bill_amount(units):\n",
    "       if units<=100:\n",
    "           bill_amount=units*4.5\n",
    "           print('You have charged Rs4.5 per unit, your bill amount is: ',)\n",
    "       elif units>100 and units<=200:\n",
    "           bill_amount=units*6\n",
    "           print('You have charged Rs6 per unit, your bill amount is: ')\n",
    "       elif units>200 and units<=300:\n",
    "           bill_amount=units*10\n",
    "           print('You have charged Rs10 per unit, your bill amount is: ')\n",
    "       elif units>300 and units!=310:\n",
    "           bill_amount=units*20\n",
    "           print('You have charged Rs20 per unit, your bill amount is: ')\n",
    "       elif units==310:\n",
    "           bill_amount=2250\n",
    "           print('You are a special case your bill amount is: ')\n",
    "       return(bill_amount)\n",
    "    \n",
    "units= int(input('Enter your Units -'))\n",
    "print(bill_amount(units))"
   ]
  },
  {
   "cell_type": "code",
   "execution_count": 1,
   "id": "f6fe9106-4f94-4841-8e9a-c494ad3a9d6b",
   "metadata": {},
   "outputs": [
    {
     "name": "stdout",
     "output_type": "stream",
     "text": [
      "[8, 64, 125, 216, 512, 1000, 1728, 2744, 3375, 4096, 5832, 8000, 10648, 13824, 15625, 17576, 21952, 27000, 32768, 39304, 42875, 46656, 54872, 64000, 74088, 85184, 91125, 97336, 110592, 125000, 140608, 157464, 166375, 175616, 195112, 216000, 238328, 262144, 274625, 287496, 314432, 343000, 373248, 405224, 421875, 438976, 474552, 512000, 551368, 592704, 614125, 636056, 681472, 729000, 778688, 830584, 857375, 884736, 941192, 1000000]\n"
     ]
    }
   ],
   "source": [
    "#ques4: Create a lsit of numbers from 1 to 100. Use for loop and while loop to calculate the cube of each number.\n",
    "#And if the cube of that number is divisible by 4 or 5 then append that number in a list and print that list.\n",
    "\n",
    "#First we do with For loop-\n",
    "a=[]\n",
    "for i in range(1,101):\n",
    "    cube=i**3\n",
    "    if (cube%4==0) or (cube%5==0):\n",
    "        a.append(i**3)\n",
    "print(a)"
   ]
  },
  {
   "cell_type": "code",
   "execution_count": 3,
   "id": "592cfbec-9b93-43a7-8675-a74365cbbc79",
   "metadata": {},
   "outputs": [
    {
     "name": "stdout",
     "output_type": "stream",
     "text": [
      "[0, 8, 64, 125, 216, 512, 1000, 1728, 2744, 3375, 4096, 5832, 8000, 10648, 13824, 15625, 17576, 21952, 27000, 32768, 39304, 42875, 46656, 54872, 64000, 74088, 85184, 91125, 97336, 110592, 125000, 140608, 157464, 166375, 175616, 195112, 216000, 238328, 262144, 274625, 287496, 314432, 343000, 373248, 405224, 421875, 438976, 474552, 512000, 551368, 592704, 614125, 636056, 681472, 729000, 778688, 830584, 857375, 884736, 941192, 1000000]\n"
     ]
    }
   ],
   "source": [
    "#now we do with While loop-\n",
    "a=1\n",
    "b=[0]\n",
    "while a <= 100:\n",
    "    cube = a**3\n",
    "    if (cube % 4 == 0) or (cube % 5 == 0):\n",
    "        b.append(cube)\n",
    "    a += 1\n",
    "print(b)"
   ]
  },
  {
   "cell_type": "code",
   "execution_count": 46,
   "id": "c31de496-f0a5-4db3-995a-f8a155fc9f59",
   "metadata": {},
   "outputs": [
    {
     "name": "stdout",
     "output_type": "stream",
     "text": [
      "12\n"
     ]
    }
   ],
   "source": [
    "#ques5: Write a program to filter count vowels in the given-below string\n",
    "#String='I want to become a data scientist'\n",
    "\n",
    "s= 'I want to become a data scientist'\n",
    "v=['a','e','i','o','u']\n",
    "count=0\n",
    "s=s.lower()\n",
    "for i in s:\n",
    "    if i in v:\n",
    "        count+=1\n",
    "print(count)"
   ]
  }
 ],
 "metadata": {
  "kernelspec": {
   "display_name": "Python 3 (ipykernel)",
   "language": "python",
   "name": "python3"
  },
  "language_info": {
   "codemirror_mode": {
    "name": "ipython",
    "version": 3
   },
   "file_extension": ".py",
   "mimetype": "text/x-python",
   "name": "python",
   "nbconvert_exporter": "python",
   "pygments_lexer": "ipython3",
   "version": "3.10.8"
  }
 },
 "nbformat": 4,
 "nbformat_minor": 5
}
