{
 "cells": [
  {
   "cell_type": "code",
   "execution_count": null,
   "id": "4da7a46a-1cdd-4144-abec-71912ca70543",
   "metadata": {},
   "outputs": [],
   "source": [
    "# Ques1: Explain why we have to use the Exception class while creating a Custom Exception.\n",
    "'''The Exception class is the base class for all exceptions in Python. When creating a custom exception, it is important to derive it from the Exception class so \n",
    "that it inherits all the properties and methods of the Exception class. This ensures that the custom exception is treated as a legitimate exception in Python, and\n",
    "can be handled by try-except blocks in the same way as other built-in exceptions. By using the Exception class as the base for custom exceptions, we ensure that \n",
    "the custom exception is compatible with the Python exception handling mechanism and can be handled in a uniform and consistent way. This makes it easier for \n",
    "developers to catch and handle custom exceptions, leading to more robust and error-free code.'''"
   ]
  },
  {
   "cell_type": "code",
   "execution_count": null,
   "id": "1173bbce-433d-460f-be0b-3a9456ea0266",
   "metadata": {},
   "outputs": [],
   "source": [
    "#Ques2: Write a python program to print Python Exception Hierarchy.\n",
    "\n",
    "def print_hierarchy(exception_class, indent=0):\n",
    "    print(\" \" * indent + str(exception_class.__name__))\n",
    "    for subclass in exception_class.__subclasses__():\n",
    "        print_hierarchy(subclass, indent + 4)\n",
    "\n",
    "print_hierarchy(Exception)"
   ]
  },
  {
   "cell_type": "code",
   "execution_count": null,
   "id": "a142bf9e-5944-40d2-bfc3-b7bfe1f2ef62",
   "metadata": {},
   "outputs": [],
   "source": [
    "#Ques3: What errors are defined in the ArithmeticError class? Explain any two with an example.\n",
    "''' The ArithmeticError class is a built-in exception in Python that is the base class for all arithmetic errors. It is a subclass of the Exception class. Some \n",
    "of the errors that are defined in the ArithmeticError class are:\n",
    "\n",
    "OverflowError: This error occurs when the result of an arithmetic operation is too large to be represented by a float or int.\n",
    "For example, if we try to calculate the value of 10 ** 100, it will result in an OverflowError:'''\n",
    "# >>> 10 ** 100\n",
    "# Traceback (most recent call last):\n",
    "#   File \"<stdin>\", line 1, in <module>\n",
    "# OverflowError: (34, 'Result too large')\n",
    "\n",
    "''''ZeroDivisionError: This error occurs when we try to divide a number by zero. For example, the below code will result in a ZeroDivisionError:'''\n",
    "# >>> 10 / 0\n",
    "# Traceback (most recent call last):\n",
    "#   File \"<stdin>\", line 1, in <module>\n",
    "# ZeroDivisionError: division by zero"
   ]
  },
  {
   "cell_type": "code",
   "execution_count": null,
   "id": "52d8ff57-97cc-4284-8342-49eb05c577c0",
   "metadata": {},
   "outputs": [],
   "source": [
    "#Ques4: Why LookupError class is used? Explain with an example KeyError and IndexError.\n",
    "'''The LookupError class is a built-in exception in Python that is the base class for errors related to lookups, such as indexing, slicing, or accessing an \n",
    "element in a container. It is a subclass of the Exception class. Some of the errors defined in the LookupError class are:\n",
    "\n",
    "KeyError: This error occurs when a key is not found in a dictionary. For example, the below code will result in a KeyError:'''\n",
    "# >>> d = {'a': 1, 'b': 2}\n",
    "# >>> d['c']\n",
    "# Traceback (most recent call last):\n",
    "#   File \"<stdin>\", line 1, in <module>\n",
    "# KeyError: 'c'\n",
    "\n",
    "'''IndexError: This error occurs when an index is not found in a list or any other indexable object. For example, the below code will result in an IndexError:'''\n",
    "# >>> l = [1, 2, 3]\n",
    "# >>> l[3]\n",
    "# Traceback (most recent call last):\n",
    "#   File \"<stdin>\", line 1, in <module>\n",
    "# IndexError: list index out of range\n",
    "\n",
    "'''In both KeyError and IndexError, the LookupError class is used to indicate that an error has occurred during a lookup operation, either in a dictionary or in\n",
    "an indexable object. These exceptions can be handled using a try-except block to handle the error and provide a suitable response, such as printing an error \n",
    "message or returning a default value.'''"
   ]
  },
  {
   "cell_type": "code",
   "execution_count": null,
   "id": "a8a82d68-d235-48c6-9004-2f42b92b5440",
   "metadata": {},
   "outputs": [],
   "source": [
    "#Ques5: Explain ImportError. What is ModuleNotFoundError?\n",
    "'''ImportError is a built-in exception in Python that is raised when an import statement fails to find the specified module or package. This can occur if the\n",
    "module or package is not installed, or if the import statement is written incorrectly. For example, the following code will result in an ImportError:-'''\n",
    "# >>> import non_existent_module\n",
    "# Traceback (most recent call last):\n",
    "#   File \"<stdin>\", line 1, in <module>\n",
    "# ImportError: No module named 'non_existent_module'\n",
    "''' ModuleNotFoundError is a subclass of the ImportError class that was introduced in Python 3.6. It is raised when a module cannot be found during the import \n",
    "process, even though the import statement is written correctly. For example, the following code will result in a ModuleNotFoundError:-'''\n",
    "# >>> import another_non_existent_module\n",
    "# Traceback (most recent call last):\n",
    "#   File \"<stdin>\", line 1, in <module>\n",
    "# ModuleNotFoundError: No module named 'another_non_existent_module'\n",
    "\n",
    "'''Both ImportError and ModuleNotFoundError can be handled using a try-except block to handle the error and provide a suitable response, such as printing an error\n",
    "message or returning a default value. The difference between the two is that ModuleNotFoundError is more specific to the case where a module cannot be found, \n",
    "whereas ImportError can be raised for other reasons, such as a syntax error in the import statement.'''"
   ]
  },
  {
   "cell_type": "code",
   "execution_count": null,
   "id": "3df5d438-5201-413c-832a-29122b641f63",
   "metadata": {},
   "outputs": [],
   "source": [
    "#Ques6: List down some best practices for exception handling in python.\n",
    "''' Some best practices for exception handling in Python are:\n",
    "\n",
    "1. Use exceptions for exceptional situations only: Exceptions should only be used to handle truly exceptional situations, such as network errors, file I/O errors,\n",
    "or invalid input.\n",
    "\n",
    "2. Catch specific exceptions: It is recommended to catch specific exceptions instead of using a catch-all Exception block. This makes the code more readable and \n",
    "helps to identify the root cause of the error.\n",
    "\n",
    "3. Provide meaningful error messages: The error messages should be clear and concise, providing enough information for the user to understand what went wrong and\n",
    "how to fix it.\n",
    "\n",
    "4. Use try-except-else-finally blocks: The else block can be used to execute code if no exception is raised, and the finally block can be used to execute code \n",
    "regardless of whether an exception is raised or not.\n",
    "\n",
    "5. Don't suppress exceptions: Suppressing exceptions makes it harder to identify the root cause of an error, and can lead to bugs and other unexpected behavior.\n",
    "\n",
    "6. Use logging instead of printing: Logging is a more flexible and scalable way to handle errors and debug information, as it allows to control the level of \n",
    "detail, target, and format of the log output.\n",
    "\n",
    "7. Raise exceptions when necessary: If an error cannot be handled within the current scope, it is recommended to raise an exception to let the caller handle it.\n",
    "\n",
    "By following these best practices, it is possible to write clean and maintainable code that handles errors and exceptions effectively.'''"
   ]
  }
 ],
 "metadata": {
  "kernelspec": {
   "display_name": "Python 3 (ipykernel)",
   "language": "python",
   "name": "python3"
  },
  "language_info": {
   "codemirror_mode": {
    "name": "ipython",
    "version": 3
   },
   "file_extension": ".py",
   "mimetype": "text/x-python",
   "name": "python",
   "nbconvert_exporter": "python",
   "pygments_lexer": "ipython3",
   "version": "3.10.8"
  }
 },
 "nbformat": 4,
 "nbformat_minor": 5
}
