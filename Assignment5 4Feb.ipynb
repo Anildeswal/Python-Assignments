{
 "cells": [
  {
   "cell_type": "code",
   "execution_count": 3,
   "id": "a988ae72-5f2a-41ea-8781-56c67e2435e8",
   "metadata": {},
   "outputs": [
    {
     "name": "stdout",
     "output_type": "stream",
     "text": [
      "Sorted list of tuples based on integer value: [('Virat Kohli', 24936), ('Jack Kallis', 25534), ('Ricky Ponting', 27483), ('Sachin Tendulkar', 34357)]\n"
     ]
    }
   ],
   "source": [
    "#ques1: Create a python program to sort the given list of tuples based on integer value using a lambda function.\n",
    "\n",
    "list_of_tuples = [('Sachin Tendulkar', 34357), ('Ricky Ponting', 27483), ('Jack Kallis', 25534), ('Virat Kohli', 24936)]\n",
    "sort_func=lambda x: x[1]\n",
    "list_of_tuples.sort(key=sort_func)\n",
    "print(\"Sorted list of tuples based on integer value:\", list_of_tuples)"
   ]
  },
  {
   "cell_type": "code",
   "execution_count": 2,
   "id": "bf8a4623-0eb9-4ef3-a568-106d841a6b31",
   "metadata": {},
   "outputs": [
    {
     "name": "stdout",
     "output_type": "stream",
     "text": [
      "Squared numbers: [1, 4, 9, 16, 25, 36, 49, 64, 81, 100]\n"
     ]
    }
   ],
   "source": [
    "#ques2: Write a Python Program to find the squares of all the numbers in the given list of integers using \n",
    "#lambda and map functions.\n",
    "l=[1, 2, 3, 4, 5, 6, 7, 8, 9, 10]\n",
    "squared_numbers = list(map(lambda x: x**2, l))\n",
    "print(\"Squared numbers:\", squared_numbers)"
   ]
  },
  {
   "cell_type": "code",
   "execution_count": 22,
   "id": "f8bd6a1d-573c-4739-a0a4-e3fec53fc514",
   "metadata": {},
   "outputs": [
    {
     "name": "stdout",
     "output_type": "stream",
     "text": [
      "('1', '2', '3', '4', '5', '6', '7', '8', '9', '10')\n"
     ]
    }
   ],
   "source": [
    "#ques3: Write a python program to convert the given list of integers into a tuple of strings. Use map and lambda functions\n",
    "#given list= [1, 2, 3, 4, 5, 6, 7, 8, 9, 10]\n",
    "\n",
    "l=[1, 2, 3, 4, 5, 6, 7, 8, 9, 10]\n",
    "result = tuple(map(lambda x: str(x), l))\n",
    "print(result)\n"
   ]
  },
  {
   "cell_type": "code",
   "execution_count": 18,
   "id": "2f3e7bc3-6584-4917-ac44-009e46bf59f9",
   "metadata": {},
   "outputs": [
    {
     "name": "stdout",
     "output_type": "stream",
     "text": [
      "15511210043330985984000000\n"
     ]
    }
   ],
   "source": [
    "#ques4: Write a python program using reduce function to compute the product of a list containing numbers from 1 to 25.\n",
    "l=[]\n",
    "for i in range(1,26):\n",
    "    l.append(i)\n",
    "    \n",
    "from functools import reduce\n",
    "print(reduce(lambda x,y : x*y ,l))"
   ]
  },
  {
   "cell_type": "code",
   "execution_count": 22,
   "id": "e7d4c0b0-866a-4120-bf01-ca2f0604afdb",
   "metadata": {},
   "outputs": [
    {
     "name": "stdout",
     "output_type": "stream",
     "text": [
      "[2, 3, 6, 9, 27, 60, 90, 120, 46]\n"
     ]
    }
   ],
   "source": [
    "#ques5: Write a python program to filter the numbers in a given list that are divisible by 2 and 3 using the filter function.\n",
    "l=[2, 3, 6, 9, 27, 60, 90, 120, 55, 46]\n",
    "\n",
    "print(list(filter(lambda x : x%2==0 or x%3==0, l)))\n"
   ]
  },
  {
   "cell_type": "code",
   "execution_count": 23,
   "id": "4a0e2da8-1300-431e-a733-d1b0dab2f372",
   "metadata": {},
   "outputs": [
    {
     "name": "stdout",
     "output_type": "stream",
     "text": [
      "['php', 'aba', 'radar', 'level']\n"
     ]
    }
   ],
   "source": [
    "#ques6: Write a python program to find palindromes in the given list of strings using lambda and filter function.\n",
    "\n",
    "l = ['python', 'php', 'aba', 'radar', 'level']\n",
    "\n",
    "palindromes = list(filter(lambda x: x == x[::-1], l))\n",
    "\n",
    "print(palindromes)\n"
   ]
  },
  {
   "cell_type": "code",
   "execution_count": null,
   "id": "450f8b86-6a2b-4c5e-9fba-088dbdcedce2",
   "metadata": {},
   "outputs": [],
   "source": []
  }
 ],
 "metadata": {
  "kernelspec": {
   "display_name": "Python 3 (ipykernel)",
   "language": "python",
   "name": "python3"
  },
  "language_info": {
   "codemirror_mode": {
    "name": "ipython",
    "version": 3
   },
   "file_extension": ".py",
   "mimetype": "text/x-python",
   "name": "python",
   "nbconvert_exporter": "python",
   "pygments_lexer": "ipython3",
   "version": "3.10.8"
  }
 },
 "nbformat": 4,
 "nbformat_minor": 5
}
