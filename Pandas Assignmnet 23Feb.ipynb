{
 "cells": [
  {
   "cell_type": "code",
   "execution_count": 1,
   "id": "d0c071d3-41b6-4c27-b341-0bda03ade0f5",
   "metadata": {},
   "outputs": [
    {
     "name": "stdout",
     "output_type": "stream",
     "text": [
      "0     4\n",
      "1     8\n",
      "2    15\n",
      "3    16\n",
      "4    23\n",
      "5    42\n",
      "dtype: int64\n"
     ]
    }
   ],
   "source": [
    "#Ques1: Create a Pandas Series that contains the following data: 4, 8, 15, 16, 23, and 42. Then, print the series.\n",
    "\n",
    "import pandas as pd\n",
    "\n",
    "data = [4, 8, 15, 16, 23, 42]\n",
    "series = pd.Series(data)\n",
    "\n",
    "print(series)"
   ]
  },
  {
   "cell_type": "code",
   "execution_count": 2,
   "id": "d51606c8-c7f9-4f07-89f7-2328d3fc3b71",
   "metadata": {},
   "outputs": [
    {
     "name": "stdout",
     "output_type": "stream",
     "text": [
      "0     1\n",
      "1     2\n",
      "2     3\n",
      "3     4\n",
      "4     5\n",
      "5     6\n",
      "6     7\n",
      "7     8\n",
      "8     9\n",
      "9    10\n",
      "dtype: int64\n"
     ]
    }
   ],
   "source": [
    "#Ques2: Create a variable of list type containing 10 elements in it, and apply pandas.Series function on the variable print it.\n",
    "\n",
    "import pandas as pd\n",
    "\n",
    "my_list = [1, 2, 3, 4, 5, 6, 7, 8, 9, 10]\n",
    "\n",
    "my_series = pd.Series(my_list)\n",
    "\n",
    "print(my_series)\n"
   ]
  },
  {
   "attachments": {
    "58dd9bb1-33a9-40f5-a0ef-65cadae3389d.png": {
     "image/png": "[encoded data removed]"
    }
   },
   "cell_type": "markdown",
   "id": "62881c03-bd6a-4224-9ba4-079e2ef08d25",
   "metadata": {},
   "source": [
    "#Ques3: Create a Pandas DataFrame that contains the following data and Then, print the DataFrame.\n",
    "![image.png](attachment:58dd9bb1-33a9-40f5-a0ef-65cadae3389d.png)"
   ]
  },
  {
   "cell_type": "code",
   "execution_count": 8,
   "id": "db89b1c3-0b4c-442b-a4ee-9179f0dc5343",
   "metadata": {},
   "outputs": [
    {
     "name": "stdout",
     "output_type": "stream",
     "text": [
      "     Name  Age  Gender\n",
      "0   Alice   25  Female\n",
      "1     Bob   30    Male\n",
      "2  Claire   27  Female\n"
     ]
    }
   ],
   "source": [
    "#solution3:\n",
    "import pandas as pd\n",
    "\n",
    "data = {'Name': ['Alice', 'Bob', 'Claire'],\n",
    "        'Age': [25, 30, 27],\n",
    "        'Gender': ['Female', 'Male', 'Female']}\n",
    "\n",
    "df = pd.DataFrame(data)\n",
    "\n",
    "print(df)"
   ]
  },
  {
   "cell_type": "code",
   "execution_count": null,
   "id": "8b7a7a78-3b6c-42d1-a25a-d3f56908e428",
   "metadata": {},
   "outputs": [],
   "source": [
    "#Ques4: What is ‘DataFrame’ in pandas and how is it different from pandas.series? Explain with an example.\n",
    "'''In Pandas, a DataFrame is a two-dimensional labeled data structure with columns of potentially different data types. It is a primary Pandas data structure used\n",
    "to store and manipulate tabular data. A DataFrame can be thought of as a collection of Pandas Series that share the same index.\n",
    "On the other hand, a Series is a one-dimensional labeled data structure with homogeneous data. It can be thought of as a single column of data within a DataFrame.\n",
    "To illustrate the difference between a DataFrame and Series, let's consider an example. Suppose we have data on the students in a class. We can represent the data\n",
    "in a DataFrame. Series is a one-dimensional array-like object that can hold any data type, while a DataFrame is a two-dimensional array-like object that consists \n",
    "of multiple Series that share the same index.'''"
   ]
  },
  {
   "cell_type": "code",
   "execution_count": null,
   "id": "20bb57de-457f-4536-8d13-9de59b8570b1",
   "metadata": {},
   "outputs": [],
   "source": [
    "#Ques5: What are some common functions you can use to manipulate data in a Pandas DataFrame? Can you give an example of when you might use one of these functions?\n",
    "'''Pandas provides many built-in functions to manipulate data in a DataFrame. Here are some common functions:-\n",
    "\n",
    "1. head() and tail(): to view the first or last n rows of the DataFrame, respectively. \n",
    "2. info(): to get a concise summary of the DataFrame, including the data types and non-null values.\n",
    "3. describe(): to get a statistical summary of the DataFrame, including the count, mean, standard deviation, minimum, and maximum values of each column.\n",
    "4. drop(): to drop one or more columns or rows from the DataFrame.\n",
    "5. sort_values(): to sort the DataFrame by one or more columns.\n",
    "6. groupby(): to group the DataFrame by one or more columns and perform aggregation functions on each group.\n",
    "\n",
    "These are just a few examples of the many functions available in Pandas to manipulate data in a DataFrame. You might use these functions, among others, to perform\n",
    "various data manipulations, such as cleaning, filtering, transforming, and analyzing data in a DataFrame.'''"
   ]
  },
  {
   "cell_type": "code",
   "execution_count": 11,
   "id": "0544f73c-d8e8-4066-90e4-8dc3e3daec64",
   "metadata": {},
   "outputs": [
    {
     "name": "stdout",
     "output_type": "stream",
     "text": [
      "0    1\n",
      "1    0\n",
      "2    3\n",
      "dtype: int64\n",
      "   A  B\n",
      "0  1  4\n",
      "1  2  5\n",
      "2  3  7\n"
     ]
    },
    {
     "data": {
      "text/plain": [
       "'On the other hand, Panels are immutable, which means you cannot modify the\\ncontents of a Panel after it has been created. Instead, you can create a new Panel with the desired modifications. Series and DataFrame are mutable, while Panel \\nis immutable in Pandas.'"
      ]
     },
     "execution_count": 11,
     "metadata": {},
     "output_type": "execute_result"
    }
   ],
   "source": [
    "#Ques6: Which of the following is mutable in nature Series, DataFrame, Panel?\n",
    "'''In Pandas, both Series and DataFrame are mutable, while Panel is immutable. This means that you can modify the contents of a Series or DataFrame after it has \n",
    "been created, but you cannot modify the contents of a Panel after it has been created.'''\n",
    "\n",
    "import pandas as pd\n",
    "\n",
    "# create a Series and a DataFrame\n",
    "s = pd.Series([1, 2, 3])\n",
    "df = pd.DataFrame({'A': [1, 2, 3], 'B': [4, 5, 6]})\n",
    "\n",
    "# modify the values in the Series and DataFrame\n",
    "s[1] = 0\n",
    "df['B'][2] = 7\n",
    "\n",
    "print(s)\n",
    "print(df)\n",
    "\n",
    "'''On the other hand, Panels are immutable, which means you cannot modify the\n",
    "contents of a Panel after it has been created. Instead, you can create a new Panel with the desired modifications. Series and DataFrame are mutable, while Panel \n",
    "is immutable in Pandas.'''"
   ]
  },
  {
   "cell_type": "code",
   "execution_count": 12,
   "id": "b55ce674-8593-44a1-ae15-519250b88f11",
   "metadata": {},
   "outputs": [
    {
     "name": "stdout",
     "output_type": "stream",
     "text": [
      "     Name  Age  Gender\n",
      "0   Alice   25  Female\n",
      "1     Bob   30    Male\n",
      "2  Claire   27  Female\n"
     ]
    }
   ],
   "source": [
    "#Ques7: Create a DataFrame using multiple Series. Explain with an example.\n",
    "'''To create a DataFrame using multiple Series, you can pass the Series as a dictionary to the pd.DataFrame() constructor. Each Series will become a column in the\n",
    "resulting DataFrame, and the index of each Series will become the index of the DataFrame. Here's an example:-'''\n",
    "\n",
    "import pandas as pd\n",
    "\n",
    "# create some Series\n",
    "names = pd.Series(['Alice', 'Bob', 'Claire'])\n",
    "ages = pd.Series([25, 30, 27])\n",
    "genders = pd.Series(['Female', 'Male', 'Female'])\n",
    "\n",
    "# create a DataFrame using the Series\n",
    "df = pd.DataFrame({'Name': names, 'Age': ages, 'Gender': genders})\n",
    "\n",
    "print(df)"
   ]
  }
 ],
 "metadata": {
  "kernelspec": {
   "display_name": "Python 3 (ipykernel)",
   "language": "python",
   "name": "python3"
  },
  "language_info": {
   "codemirror_mode": {
    "name": "ipython",
    "version": 3
   },
   "file_extension": ".py",
   "mimetype": "text/x-python",
   "name": "python",
   "nbconvert_exporter": "python",
   "pygments_lexer": "ipython3",
   "version": "3.10.8"
  }
 },
 "nbformat": 4,
 "nbformat_minor": 5
}
