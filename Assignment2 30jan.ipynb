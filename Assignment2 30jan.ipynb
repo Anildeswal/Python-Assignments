{
 "cells": [
  {
   "cell_type": "code",
   "execution_count": 16,
   "id": "d81f58aa-6974-48a7-b8a4-42c57abdb169",
   "metadata": {},
   "outputs": [
    {
     "name": "stdin",
     "output_type": "stream",
     "text": [
      "Enter your percentage :  95\n"
     ]
    },
    {
     "name": "stdout",
     "output_type": "stream",
     "text": [
      "Your grade is: A\n"
     ]
    }
   ],
   "source": [
    "# QUES1: Write a program to accept percentage from user and give grades accoding to percentage.\n",
    "\n",
    "percentage=int(input(\"Enter your percentage : \"))\n",
    "if percentage >90 :\n",
    "    print('Your grade is: A')\n",
    "elif percentage >80 and percentage <=90 :\n",
    "    print('Your grade is: B')\n",
    "elif percentage >=60 and percentage <=80 :\n",
    "    print('Your grade is: C')\n",
    "else :\n",
    "    print('Your grade is: D')"
   ]
  },
  {
   "cell_type": "code",
   "execution_count": 21,
   "id": "0e6f0665-f098-44e0-b9ea-57b93c004679",
   "metadata": {},
   "outputs": [
    {
     "name": "stdin",
     "output_type": "stream",
     "text": [
      "Enter the cost price of bike 70000\n"
     ]
    },
    {
     "name": "stdout",
     "output_type": "stream",
     "text": [
      "10% road tax to be paid\n"
     ]
    }
   ],
   "source": [
    "# ques2: Write a program to accept the cost of bike and display the road tax paid according to criteria.\n",
    "\n",
    "cost = int(input('Enter the cost price of bike'))\n",
    "if cost > 100000:\n",
    "    print('15% road tax to be paid')\n",
    "elif cost >50000 and cost <= 100000 :\n",
    "    print('10% road tax to be paid')\n",
    "else:\n",
    "    print('5% road tax to b paid')"
   ]
  },
  {
   "cell_type": "code",
   "execution_count": 28,
   "id": "2ae5a552-d3dc-47aa-8dc6-74b6761bbdc2",
   "metadata": {},
   "outputs": [
    {
     "name": "stdin",
     "output_type": "stream",
     "text": [
      "Enter the city name :  kolkata\n"
     ]
    },
    {
     "name": "stdout",
     "output_type": "stream",
     "text": [
      "kolkata is not listed in our data\n"
     ]
    }
   ],
   "source": [
    "# ques3: accept any city from user and display the monuments of that city.\n",
    "\n",
    "city = input('Enter the city name : ')\n",
    "if city == 'delhi':\n",
    "    print('Red Fort is the famous monument in',city)\n",
    "elif city == 'agra':\n",
    "    print('Taj Mahal is the famous monument in',city)\n",
    "elif city == 'jaipur':\n",
    "    print('Jal Mahal is the famous monument in',city)\n",
    "else:\n",
    "    print(city,'is not listed in our data')"
   ]
  },
  {
   "cell_type": "code",
   "execution_count": 2,
   "id": "21c2d9b6-7099-4cd3-ac6f-15790c093240",
   "metadata": {},
   "outputs": [
    {
     "name": "stdin",
     "output_type": "stream",
     "text": [
      "Enter the value : 150\n"
     ]
    },
    {
     "name": "stdout",
     "output_type": "stream",
     "text": [
      "3\n"
     ]
    }
   ],
   "source": [
    "# ques4: check how many times a given number can be divided by 3 before it is less than or equal to 10.\n",
    "\n",
    "number=int(input('Enter the value :'))\n",
    "i = 0\n",
    "while number > 10:\n",
    "    number = number / 3\n",
    "    i += 1\n",
    "print(i)"
   ]
  },
  {
   "cell_type": "code",
   "execution_count": null,
   "id": "51ecd65a-c556-49af-aee8-e12c6a6b5ffb",
   "metadata": {},
   "outputs": [],
   "source": [
    "#ques5: Why and when to use while loop in Pyhton give a detailed a description with an example?\n",
    "\n",
    "We Use a while loop when we are asking for user input.  When the increment value is nonstandard we Used a while loop, While loop is used to run a block code until a certain condition is met.\n",
    "for example-  if we need to get the numbers less than 6\n",
    "i = 1\n",
    "while i < 6:\n",
    "  print(i)\n",
    "  i += 1"
   ]
  },
  {
   "cell_type": "code",
   "execution_count": 2,
   "id": "b5f1a8b1-7155-4e15-87e9-495684edc963",
   "metadata": {},
   "outputs": [
    {
     "name": "stdout",
     "output_type": "stream",
     "text": [
      "$    \n",
      "$$   \n",
      "$$$  \n",
      "$$$$ \n",
      "$$$$$\n"
     ]
    }
   ],
   "source": [
    "#ques6: Use nested while loop to print 3 different pattern?\n",
    "\n",
    "r = 5\n",
    "i = 1\n",
    "while i <= r:\n",
    "    j = 1\n",
    "    while j <= r:\n",
    "        if j <= i:\n",
    "            print(\"$\", end=\"\")\n",
    "        else:\n",
    "            print(\" \", end=\"\")\n",
    "        j += 1\n",
    "    print(\"\")\n",
    "    i += 1"
   ]
  },
  {
   "cell_type": "code",
   "execution_count": 23,
   "id": "f8e04c09-d256-4b68-8911-9aea1f3da8f9",
   "metadata": {},
   "outputs": [
    {
     "name": "stdout",
     "output_type": "stream",
     "text": [
      "10\n",
      "9\n",
      "8\n",
      "7\n",
      "6\n",
      "5\n",
      "4\n",
      "3\n",
      "2\n",
      "1\n"
     ]
    }
   ],
   "source": [
    "#ques 7: Reverse a while loop to display numers from 10 to 1?\n",
    "a=10\n",
    "b=[0]\n",
    "while a>=1:\n",
    "    b=a\n",
    "    a= a-1\n",
    "    print(b)"
   ]
  },
  {
   "cell_type": "code",
   "execution_count": null,
   "id": "2d1119e4-cda2-4b40-a0bc-9eb6958a8226",
   "metadata": {},
   "outputs": [],
   "source": [
    "#ques 8: Reverse a while loop to display numers from 10 to 1?\n",
    "a=10\n",
    "b=[0]\n",
    "while a>=1:\n",
    "    b=a\n",
    "    a= a-1\n",
    "    print(b)"
   ]
  },
  {
   "cell_type": "code",
   "execution_count": null,
   "id": "b6daf206-8b35-40eb-84ea-86549b54887f",
   "metadata": {},
   "outputs": [],
   "source": []
  }
 ],
 "metadata": {
  "kernelspec": {
   "display_name": "Python 3 (ipykernel)",
   "language": "python",
   "name": "python3"
  },
  "language_info": {
   "codemirror_mode": {
    "name": "ipython",
    "version": 3
   },
   "file_extension": ".py",
   "mimetype": "text/x-python",
   "name": "python",
   "nbconvert_exporter": "python",
   "pygments_lexer": "ipython3",
   "version": "3.10.8"
  }
 },
 "nbformat": 4,
 "nbformat_minor": 5
}
